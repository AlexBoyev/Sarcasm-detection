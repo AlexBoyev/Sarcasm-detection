{
 "cells": [
  {
   "cell_type": "markdown",
   "metadata": {},
   "source": [
    "# Sarcasm detection and analysis \n",
    " \n",
    "### Alexander boyev 314393158\n",
    "### Moshe Faerman 204469449\n",
    "\n",
    "\n",
    "\n",
    "\n",
    "#### In this project we will try to analyse and predict sarcasm sentences in \"Reddit\" forum reviews.\n",
    "#### Reddit is an American social news aggregation, web content rating, and discussion website.\n",
    "\n",
    "#### The Data contains over 1 million reviews, labeled as sarcastic or not, by binary value.\n",
    "\n",
    "#### We will use English word embedding FastText to train the deep learning LSTM model\n",
    "\n",
    "\n",
    "- workflow:\n",
    "    - Reading the data\n",
    "    - Preproccesing & Cleaning\n",
    "    - Tokenize\n",
    "    - Embedding\n",
    "    - Padding\n",
    "    - Shuffle\n",
    "    - Training the LSTM model\n",
    "    - Predict\n",
    "\n",
    "\n"
   ]
  },
  {
   "cell_type": "markdown",
   "metadata": {},
   "source": [
    "# Import libraries"
   ]
  },
  {
   "cell_type": "code",
   "execution_count": 1,
   "metadata": {},
   "outputs": [
    {
     "name": "stdout",
     "output_type": "stream",
     "text": [
      "11.0\n",
      "8004\n",
      "Found GPU at: /device:GPU:0\n",
      "Num GPUs Available:  1\n"
     ]
    }
   ],
   "source": [
    "import os\n",
    "import torch\n",
    "import tensorflow as tf\n",
    "\n",
    "os.environ[\"TF_FORCE_GPU_ALLOW_GROWTH\"]=\"true\"\n",
    "\n",
    "print(torch.version.cuda)\n",
    "print(torch.backends.cudnn.version())\n",
    "\n",
    "device_name = tf.test.gpu_device_name()\n",
    "if device_name != '/device:GPU:0':\n",
    "    raise SystemError('GPU device not found')\n",
    "print('Found GPU at: {}'.format(device_name))\n",
    "print(\"Num GPUs Available: \", len(tf.config.experimental.list_physical_devices('GPU')))"
   ]
  },
  {
   "cell_type": "code",
   "execution_count": 2,
   "metadata": {},
   "outputs": [
    {
     "name": "stderr",
     "output_type": "stream",
     "text": [
      "C:\\ProgramData\\Anaconda3\\envs\\gpu\\lib\\site-packages\\ipykernel_launcher.py:4: FutureWarning: Passing a negative integer is deprecated in version 1.0 and will not be supported in future version. Instead, use None to not limit the column width.\n",
      "  after removing the cwd from sys.path.\n",
      "Using TensorFlow backend.\n",
      "Downloading https://raw.githubusercontent.com/stanfordnlp/stanza-resources/master/resources_1.1.0.json: 122kB [00:00, 11.1MB/s]\n",
      "2020-12-30 13:13:42 INFO: Downloading default packages for language: en (English)...\n",
      "2020-12-30 13:13:42 INFO: File exists: C:\\Users\\Alex\\stanza_resources\\en\\default.zip.\n",
      "2020-12-30 13:13:47 INFO: Finished downloading models and saved to C:\\Users\\Alex\\stanza_resources.\n"
     ]
    }
   ],
   "source": [
    "# import libraries\n",
    "import pandas as pd\n",
    "pd.set_option('display.max_columns', None)\n",
    "pd.set_option('max_colwidth', -1)\n",
    "\n",
    "from distutils.version import LooseVersion\n",
    "import warnings\n",
    "\n",
    "\n",
    "import numpy as np\n",
    "\n",
    "from keras.preprocessing.text import Tokenizer\n",
    "from keras.preprocessing.sequence import pad_sequences\n",
    "from tensorflow.keras.layers import Dense, Input, LSTM, Embedding, Dropout, Activation, Flatten, Bidirectional, GlobalMaxPool1D\n",
    "from tensorflow.python.keras.layers import CuDNNLSTM\n",
    "from sklearn.metrics import classification_report\n",
    "from keras.models import Model\n",
    "from keras.utils import plot_model\n",
    "from tensorflow.keras.callbacks import ModelCheckpoint\n",
    "from tensorflow.keras.models import load_model\n",
    "from keras import optimizers\n",
    "from sklearn.model_selection import train_test_split\n",
    "from tensorflow.keras import regularizers\n",
    "from tensorflow.keras.models import Sequential\n",
    "from sklearn.utils import shuffle\n",
    "\n",
    "import matplotlib.pyplot as plt\n",
    "import random\n",
    "\n",
    "import os\n",
    "import re\n",
    "from tqdm.notebook import tqdm\n",
    "\n",
    "import nltk\n",
    "from nltk.corpus import stopwords\n",
    "from nltk.tokenize import word_tokenize\n",
    "from nltk.stem.porter import PorterStemmer\n",
    "from nltk.stem import WordNetLemmatizer\n",
    "from nltk.corpus import wordnet\n",
    "\n",
    "from string import punctuation\n",
    "import pylab as pl\n",
    "from PIL import Image\n",
    "from wordcloud import WordCloud, STOPWORDS, ImageColorGenerator\n",
    "import copy\n",
    "import pickle\n",
    "import contractions\n",
    "import stanza\n",
    "stanza.download('en')\n",
    "#nlp = stanza.Pipeline(lang='en', processors=\"tokenize, mwt,pos,lemma\",tokenize_no_ssplit=True)"
   ]
  },
  {
   "cell_type": "markdown",
   "metadata": {},
   "source": [
    "# Variables"
   ]
  },
  {
   "cell_type": "code",
   "execution_count": 3,
   "metadata": {},
   "outputs": [],
   "source": [
    "sarcasm_data = 0\n",
    "learning_rate = 0.01\n",
    "TOTAL_WORDS = 40000\n",
    "MAX_LEN = 60\n",
    "val_split = 0.2\n",
    "stop_words = set(stopwords.words('english')) - {'not', 'nor','no','never','none'}\n",
    "sarcasticDict = {}\n",
    "normalDict = {}\n",
    "embedding_matrix = 0\n",
    "Adam = optimizers.Adam(lr=learning_rate)\n",
    "lemmatizer = WordNetLemmatizer()"
   ]
  },
  {
   "cell_type": "markdown",
   "metadata": {},
   "source": [
    "# Functions"
   ]
  },
  {
   "cell_type": "code",
   "execution_count": 4,
   "metadata": {},
   "outputs": [],
   "source": [
    "def preprocessing(s):\n",
    "    #function to lowercase, remove contractions, remove new lines, removes spaces.\n",
    "    s = str(s).lower().strip()\n",
    "    expanded_words = []     \n",
    "    for word in s.split(): \n",
    "      # using contractions.fix to expand the shotened words \n",
    "      expanded_words.append(contractions.fix(word)) \n",
    "    s = \" \".join(expanded_words)\n",
    "    s = re.sub('\\n', '', s)\n",
    "    s = re.sub(r\"([?!,+=—&%\\'\\\";:¿।।।|\\(\\){}\\[\\]//])\", r\" \\1 \", s)\n",
    "    s = re.sub('[ ]{2,}', ' ', s).strip()\n",
    "    return s\n",
    "\n",
    "# stowords\n",
    "def stopWords(comment):\n",
    "    wordnet_lemmatizer = WordNetLemmatizer()\n",
    "    text_tokens = word_tokenize(comment)\n",
    "    tokens_without_sw = []\n",
    "    for word in text_tokens:\n",
    "        if not word in stop_words:\n",
    "            if not word in punctuation:\n",
    "                if not word.isdigit():\n",
    "                    word = wordnet_lemmatizer.lemmatize(word)\n",
    "                    tokens_without_sw.append(word)\n",
    "    \n",
    "    filtered_sentence = (\" \").join(tokens_without_sw)\n",
    "    return filtered_sentence\n",
    "\n",
    "def lematize(comment):\n",
    "    lemmaList = []\n",
    "    wordnet_lemmatizer = WordNetLemmatizer()\n",
    "    text_tokens = word_tokenize(comment)\n",
    "    for word in text_tokens:\n",
    "        word = wordnet_lemmatizer.lemmatize(word)\n",
    "        lemmaList.append(word)\n",
    "    return lemmaList\n",
    "\n",
    "#frequency\n",
    "def wordFrequency(comment,status):\n",
    "    if status == 0:\n",
    "        for word in comment:\n",
    "            if word in normalDict:\n",
    "                counter = normalDict[word] + 1\n",
    "                normalDict[word] = counter\n",
    "            else:\n",
    "                normalDict[word] = 1\n",
    "    else:\n",
    "        for word in comment:\n",
    "            if word in sarcasticDict:\n",
    "                counter = sarcasticDict[word] + 1\n",
    "                sarcasticDict[word] = counter\n",
    "            else:\n",
    "                sarcasticDict[word] = 1\n",
    "                \n",
    "def nltk_tag_to_wordnet_tag(nltk_tag):\n",
    "    if nltk_tag.startswith('J'):\n",
    "        return wordnet.ADJ\n",
    "    elif nltk_tag.startswith('V'):\n",
    "        return wordnet.VERB\n",
    "    elif nltk_tag.startswith('N'):\n",
    "        return wordnet.NOUN\n",
    "    elif nltk_tag.startswith('R'):\n",
    "        return wordnet.ADV\n",
    "    else:          \n",
    "        return None\n",
    "\n",
    "def lemmatize_sentence(sentence):\n",
    "    #tokenize the sentence and find the POS tag for each token\n",
    "    nltk_tagged = nltk.pos_tag(nltk.word_tokenize(sentence))  \n",
    "    #tuple of (token, wordnet_tag)\n",
    "    wordnet_tagged = map(lambda x: (x[0], nltk_tag_to_wordnet_tag(x[1])), nltk_tagged)\n",
    "    lemmatized_sentence = []\n",
    "    for word, tag in wordnet_tagged:\n",
    "        if tag is None:\n",
    "            #if there is no available tag, append the token as is\n",
    "            lemmatized_sentence.append(word)\n",
    "        else:        \n",
    "            #else use the tag to lemmatize the token\n",
    "            lemmatized_sentence.append(lemmatizer.lemmatize(word, tag))\n",
    "    return lemmatized_sentence\n",
    "                \n",
    "def shuffleData(seed):\n",
    "    random.seed(seed)\n",
    "    np.random.seed(seed)\n",
    "    os.environ['PYTHONHASHSEED'] = str(seed)\n",
    "    torch.manual_seed(seed)\n",
    "    torch.cuda.manual_seed(seed)\n",
    "    torch.backends.cudnn.deterministic = True\n",
    "    tf.random.set_seed(seed)\n",
    "    \n",
    "def checkpoint(name:str):\n",
    "    return ModelCheckpoint(name, monitor='val_binary_accuracy', verbose=1, save_best_only=True,\n",
    "                                   save_weights_only=False, mode='auto')\n",
    "\n",
    "def plot(hist:dict,y_title:str,plot_title:str):\n",
    "    plt.figure(figsize=(6,2),dpi=140,facecolor=\"w\")\n",
    "    plt.grid(c='black',linestyle=\"-\",linewidth=2)\n",
    "    plt.ylabel(y_title)\n",
    "    plt.xlabel(\"epochs\")\n",
    "    plt.title(plot_title)\n",
    "    plt.plot(hist)\n",
    "    \n",
    "def makeGraph(history):\n",
    "    acc = history['val_binary_accuracy']\n",
    "    val_acc = history['binary_accuracy']\n",
    "    loss = history['loss']\n",
    "    val_loss = history['val_loss']\n",
    "    epochs = range(1, len(acc) + 1)\n",
    "\n",
    "    plt.title('Training and validation accuracy')\n",
    "    plt.plot(epochs, acc, 'red', label='Training acc')\n",
    "    plt.plot(epochs, val_acc, 'blue', label='Validation acc')\n",
    "    plt.legend()\n",
    "\n",
    "    plt.figure()\n",
    "    plt.title('Training and validation loss')\n",
    "    plt.plot(epochs, loss, 'red', label='Training loss')\n",
    "    plt.plot(epochs, val_loss, 'blue', label='Validation loss')\n",
    "\n",
    "    plt.legend()\n",
    "\n",
    "    plt.show()\n",
    "    \n",
    "def makeGraphBert(history):\n",
    "    acc = history['val_accuracy']\n",
    "    val_acc = history['accuracy']\n",
    "    loss = history['loss']\n",
    "    val_loss = history['val_loss']\n",
    "    epochs = range(1, len(acc) + 1)\n",
    "\n",
    "    plt.title('Training and validation accuracy')\n",
    "    plt.plot(epochs, acc, 'red', label='Training acc')\n",
    "    plt.plot(epochs, val_acc, 'blue', label='Validation acc')\n",
    "    plt.legend()\n",
    "\n",
    "    plt.figure()\n",
    "    plt.title('Training and validation loss')\n",
    "    plt.plot(epochs, loss, 'red', label='Training loss')\n",
    "    plt.plot(epochs, val_loss, 'blue', label='Validation loss')\n",
    "\n",
    "    plt.legend()\n",
    "\n",
    "    plt.show()\n",
    "    \n",
    "def data_cleaning(rev:str)->str:\n",
    "    rev = re.sub(re.compile('<.*?>'), \"\", rev.lower())\n",
    "    rev = re.sub(\"'s\", \" is\", rev)\n",
    "    rev = re.sub(\"'ve\", \" have\", rev)\n",
    "    rev = re.sub(\"n't\", \" not\", rev)\n",
    "    rev = re.sub(\"cannot\", \" can not\", rev)\n",
    "    rev = re.sub(\"'re\", \" are\", rev)\n",
    "    rev = re.sub(\"'d\", \" would\", rev)\n",
    "    rev = re.sub(\"'ll\", \" will\", rev)\n",
    "    rev = re.sub(\"won\\'t\", \"will not\", rev)\n",
    "    rev = re.sub(\"can\\'t\", \"can not\", rev)\n",
    "    rev = re.sub(\"\\'t\", \" not\", rev)\n",
    "    rev = re.sub(\"\\'ve\", \" have\", rev)\n",
    "    rev = re.sub(\"\\'m\", \" am\", rev)\n",
    "    rev = re.sub(\"[^a-z ]+\", '', rev.replace('.',' ').replace(',',' '))\n",
    "    return rev\n",
    "\n",
    "def remove_bad_words(rev:str)->str:\n",
    "    temp=\"\"\n",
    "    for word in rev.split():\n",
    "        if word not in stop_words and len(set(word))>1:\n",
    "            temp+=word+ \" \"\n",
    "    return temp\n",
    "\n",
    "\n",
    "def split_into_train_test_dev():\n",
    "    global sarcasm_data\n",
    "    temp = {}\n",
    "    temp['train'], temp['test'] = train_test_split(sarcasm_data, test_size=0.15, random_state=42)\n",
    "    temp['train'] , temp['dev'] = train_test_split(temp['train'], test_size=0.15, random_state=42)\n",
    "    sarcasm_data = temp\n",
    "    \n",
    "class Dictionary:\n",
    "    def __init__(self):\n",
    "        self.word2idx = {\"PAD\":0}\n",
    "        self.idx2word = {0:\"PAD\"}\n",
    "        self.word2freq = {\"PAD\":1}\n",
    "        self.idx = 1\n",
    "    \n",
    "    def add_words(self,input):\n",
    "        def add():\n",
    "            if word not in self.word2idx.keys():\n",
    "                self.word2idx[word] = self.idx\n",
    "                self.idx2word[self.idx] = word\n",
    "                self.word2freq[word] = 1\n",
    "                self.idx+=1\n",
    "            else:\n",
    "                self.word2freq[word] += 1\n",
    "       \n",
    "        def addSeq():\n",
    "            nonlocal word\n",
    "            for word in input:\n",
    "                add()\n",
    "        inputType = type(input)\n",
    "        word = []\n",
    "        if inputType != list and inputType != str and inputType != tuple:\n",
    "            raise TypeError (\"dict at add_word :the type of the input is not allowed\")\n",
    "        if inputType == \"str\":\n",
    "            input = [input]\n",
    "        addSeq()\n",
    "            \n",
    "            \n",
    "    def __getitem__(self,words):\n",
    "        try:\n",
    "            if type(words) == str:\n",
    "                return self.word2idx[words]\n",
    "            return [self.word2idx[word] for word in words]\n",
    "\n",
    "        except KeyError:\n",
    "            return None\n",
    "    \n",
    "    def __setitem__(self,word,id):\n",
    "\n",
    "        if word not in self.word2idx.keys():\n",
    "            self.word2idx[word] = id \n",
    "            self.word2idx[id] = word \n",
    "            self.idx+=1\n",
    "\n",
    "            \n",
    "    def __len__(self):\n",
    "        return len(self.word2idx)\n",
    "\n",
    "def fit_on_train(rev:list)->list:\n",
    "    dictionary.add_words(rev)\n",
    "    return rev\n",
    "\n",
    "def transform(rev:list)->list:\n",
    "    return [dictionary[word] for word in rev if dictionary[word]]\n",
    "\n",
    "\n",
    "def build_weight_matrix():\n",
    "    def init_fast_text():\n",
    "        nonlocal fastText,dim\n",
    "        print(\"Loading FastText pre-trained vectors\")\n",
    "        with open('crawl-300d-2M.vec', 'r', encoding='utf-8', newline='\\n',errors='ignore') as f:\n",
    "            _, dim = map(int, f.readline().split())\n",
    "            fastText = {}\n",
    "            for line in f:\n",
    "                tokens = line.rstrip().split(' ')\n",
    "                fastText[tokens[0]] = np.asarray(tokens[1:], \"float32\")\n",
    "    \n",
    "    def build_matrix():\n",
    "        nonlocal weights_matrix\n",
    "        print(\"starting to build weight matrix for embedding encoding,  based on FastText pre-trained vectors\")\n",
    "        maching_words = 0\n",
    "        dataset_size = len(dictionary)+1\n",
    "        weights_matrix = np.zeros(shape=(dataset_size,dim))\n",
    "        for i,word in enumerate(dictionary.word2idx.keys(),1):\n",
    "            try:\n",
    "                save = fastText[word]\n",
    "                maching_words += 1\n",
    "            except KeyError:\n",
    "                save = np.random.uniform(size=(dim,))\n",
    "            weights_matrix[i] = save\n",
    "                     \n",
    "        print(\"pre-treind words: {} randomaly initilaized: {}\".format(maching_words,dataset_size))     \n",
    "    fastText,dim,weights_matrix=[],0,[]\n",
    "    init_fast_text()\n",
    "    build_matrix()\n",
    "    sarcasm_data['matrix'] = weights_matrix\n",
    "\n",
    "\n",
    "    \n",
    "    \n"
   ]
  },
  {
   "cell_type": "markdown",
   "metadata": {},
   "source": [
    "# Data reading & Visualisation"
   ]
  },
  {
   "cell_type": "code",
   "execution_count": 5,
   "metadata": {},
   "outputs": [],
   "source": [
    "dictionary = Dictionary()"
   ]
  },
  {
   "cell_type": "code",
   "execution_count": 6,
   "metadata": {},
   "outputs": [
    {
     "name": "stdout",
     "output_type": "stream",
     "text": [
      "(1010826, 10)\n"
     ]
    },
    {
     "data": {
      "text/html": [
       "<div>\n",
       "<style scoped>\n",
       "    .dataframe tbody tr th:only-of-type {\n",
       "        vertical-align: middle;\n",
       "    }\n",
       "\n",
       "    .dataframe tbody tr th {\n",
       "        vertical-align: top;\n",
       "    }\n",
       "\n",
       "    .dataframe thead th {\n",
       "        text-align: right;\n",
       "    }\n",
       "</style>\n",
       "<table border=\"1\" class=\"dataframe\">\n",
       "  <thead>\n",
       "    <tr style=\"text-align: right;\">\n",
       "      <th></th>\n",
       "      <th>label</th>\n",
       "      <th>comment</th>\n",
       "      <th>author</th>\n",
       "      <th>subreddit</th>\n",
       "      <th>score</th>\n",
       "      <th>ups</th>\n",
       "      <th>downs</th>\n",
       "      <th>date</th>\n",
       "      <th>created_utc</th>\n",
       "      <th>parent_comment</th>\n",
       "    </tr>\n",
       "  </thead>\n",
       "  <tbody>\n",
       "    <tr>\n",
       "      <th>0</th>\n",
       "      <td>0</td>\n",
       "      <td>NC and NH.</td>\n",
       "      <td>Trumpbart</td>\n",
       "      <td>politics</td>\n",
       "      <td>2</td>\n",
       "      <td>-1</td>\n",
       "      <td>-1</td>\n",
       "      <td>2016-10</td>\n",
       "      <td>2016-10-16 23:55:23</td>\n",
       "      <td>Yeah, I get that argument. At this point, I'd prefer is she lived in NC as well.</td>\n",
       "    </tr>\n",
       "    <tr>\n",
       "      <th>1</th>\n",
       "      <td>0</td>\n",
       "      <td>You do know west teams play against west teams more than east teams right?</td>\n",
       "      <td>Shbshb906</td>\n",
       "      <td>nba</td>\n",
       "      <td>-4</td>\n",
       "      <td>-1</td>\n",
       "      <td>-1</td>\n",
       "      <td>2016-11</td>\n",
       "      <td>2016-11-01 00:24:10</td>\n",
       "      <td>The blazers and Mavericks (The wests 5 and 6 seed) did not even carry a good enough record to make the playoffs in the east last year.</td>\n",
       "    </tr>\n",
       "    <tr>\n",
       "      <th>2</th>\n",
       "      <td>0</td>\n",
       "      <td>They were underdogs earlier today, but since Gronk's announcement this afternoon, the Vegas line has moved to patriots -1</td>\n",
       "      <td>Creepeth</td>\n",
       "      <td>nfl</td>\n",
       "      <td>3</td>\n",
       "      <td>3</td>\n",
       "      <td>0</td>\n",
       "      <td>2016-09</td>\n",
       "      <td>2016-09-22 21:45:37</td>\n",
       "      <td>They're favored to win.</td>\n",
       "    </tr>\n",
       "    <tr>\n",
       "      <th>3</th>\n",
       "      <td>0</td>\n",
       "      <td>This meme isn't funny none of the \"new york nigga\" ones are.</td>\n",
       "      <td>icebrotha</td>\n",
       "      <td>BlackPeopleTwitter</td>\n",
       "      <td>-8</td>\n",
       "      <td>-1</td>\n",
       "      <td>-1</td>\n",
       "      <td>2016-10</td>\n",
       "      <td>2016-10-18 21:03:47</td>\n",
       "      <td>deadass don't kill my buzz</td>\n",
       "    </tr>\n",
       "    <tr>\n",
       "      <th>4</th>\n",
       "      <td>0</td>\n",
       "      <td>I could use one of those tools.</td>\n",
       "      <td>cush2push</td>\n",
       "      <td>MaddenUltimateTeam</td>\n",
       "      <td>6</td>\n",
       "      <td>-1</td>\n",
       "      <td>-1</td>\n",
       "      <td>2016-12</td>\n",
       "      <td>2016-12-30 17:00:13</td>\n",
       "      <td>Yep can confirm I saw the tool they use for that. It was made by our boy EASports_MUT</td>\n",
       "    </tr>\n",
       "  </tbody>\n",
       "</table>\n",
       "</div>"
      ],
      "text/plain": [
       "   label  \\\n",
       "0  0       \n",
       "1  0       \n",
       "2  0       \n",
       "3  0       \n",
       "4  0       \n",
       "\n",
       "                                                                                                                     comment  \\\n",
       "0  NC and NH.                                                                                                                  \n",
       "1  You do know west teams play against west teams more than east teams right?                                                  \n",
       "2  They were underdogs earlier today, but since Gronk's announcement this afternoon, the Vegas line has moved to patriots -1   \n",
       "3  This meme isn't funny none of the \"new york nigga\" ones are.                                                                \n",
       "4  I could use one of those tools.                                                                                             \n",
       "\n",
       "      author           subreddit  score  ups  downs     date  \\\n",
       "0  Trumpbart  politics            2     -1   -1      2016-10   \n",
       "1  Shbshb906  nba                -4     -1   -1      2016-11   \n",
       "2  Creepeth   nfl                 3      3    0      2016-09   \n",
       "3  icebrotha  BlackPeopleTwitter -8     -1   -1      2016-10   \n",
       "4  cush2push  MaddenUltimateTeam  6     -1   -1      2016-12   \n",
       "\n",
       "           created_utc  \\\n",
       "0  2016-10-16 23:55:23   \n",
       "1  2016-11-01 00:24:10   \n",
       "2  2016-09-22 21:45:37   \n",
       "3  2016-10-18 21:03:47   \n",
       "4  2016-12-30 17:00:13   \n",
       "\n",
       "                                                                                                                           parent_comment  \n",
       "0  Yeah, I get that argument. At this point, I'd prefer is she lived in NC as well.                                                        \n",
       "1  The blazers and Mavericks (The wests 5 and 6 seed) did not even carry a good enough record to make the playoffs in the east last year.  \n",
       "2  They're favored to win.                                                                                                                 \n",
       "3  deadass don't kill my buzz                                                                                                              \n",
       "4  Yep can confirm I saw the tool they use for that. It was made by our boy EASports_MUT                                                   "
      ]
     },
     "execution_count": 6,
     "metadata": {},
     "output_type": "execute_result"
    }
   ],
   "source": [
    "sarcasm_data = pd.read_csv(\"train-balanced-sarcasm.csv\")\n",
    "print(sarcasm_data.shape)\n",
    "sarcasm_data.head()"
   ]
  },
  {
   "cell_type": "code",
   "execution_count": 7,
   "metadata": {},
   "outputs": [
    {
     "data": {
      "text/html": [
       "<div>\n",
       "<style scoped>\n",
       "    .dataframe tbody tr th:only-of-type {\n",
       "        vertical-align: middle;\n",
       "    }\n",
       "\n",
       "    .dataframe tbody tr th {\n",
       "        vertical-align: top;\n",
       "    }\n",
       "\n",
       "    .dataframe thead th {\n",
       "        text-align: right;\n",
       "    }\n",
       "</style>\n",
       "<table border=\"1\" class=\"dataframe\">\n",
       "  <thead>\n",
       "    <tr style=\"text-align: right;\">\n",
       "      <th></th>\n",
       "      <th>label</th>\n",
       "      <th>comment</th>\n",
       "    </tr>\n",
       "  </thead>\n",
       "  <tbody>\n",
       "    <tr>\n",
       "      <th>0</th>\n",
       "      <td>0</td>\n",
       "      <td>NC and NH.</td>\n",
       "    </tr>\n",
       "    <tr>\n",
       "      <th>1</th>\n",
       "      <td>0</td>\n",
       "      <td>You do know west teams play against west teams more than east teams right?</td>\n",
       "    </tr>\n",
       "    <tr>\n",
       "      <th>2</th>\n",
       "      <td>0</td>\n",
       "      <td>They were underdogs earlier today, but since Gronk's announcement this afternoon, the Vegas line has moved to patriots -1</td>\n",
       "    </tr>\n",
       "    <tr>\n",
       "      <th>3</th>\n",
       "      <td>0</td>\n",
       "      <td>This meme isn't funny none of the \"new york nigga\" ones are.</td>\n",
       "    </tr>\n",
       "    <tr>\n",
       "      <th>4</th>\n",
       "      <td>0</td>\n",
       "      <td>I could use one of those tools.</td>\n",
       "    </tr>\n",
       "  </tbody>\n",
       "</table>\n",
       "</div>"
      ],
      "text/plain": [
       "   label  \\\n",
       "0  0       \n",
       "1  0       \n",
       "2  0       \n",
       "3  0       \n",
       "4  0       \n",
       "\n",
       "                                                                                                                     comment  \n",
       "0  NC and NH.                                                                                                                 \n",
       "1  You do know west teams play against west teams more than east teams right?                                                 \n",
       "2  They were underdogs earlier today, but since Gronk's announcement this afternoon, the Vegas line has moved to patriots -1  \n",
       "3  This meme isn't funny none of the \"new york nigga\" ones are.                                                               \n",
       "4  I could use one of those tools.                                                                                            "
      ]
     },
     "execution_count": 7,
     "metadata": {},
     "output_type": "execute_result"
    }
   ],
   "source": [
    "sarcasm_data.drop(['author', 'subreddit', 'score', 'ups', 'downs', 'date', 'created_utc', 'parent_comment'], axis=1, inplace=True)\n",
    "# remove empty rows\n",
    "sarcasm_data.dropna(inplace=True)\n",
    "sarcasm_data.head()\n",
    "\n"
   ]
  },
  {
   "cell_type": "markdown",
   "metadata": {},
   "source": [
    "# Preprocessing"
   ]
  },
  {
   "cell_type": "code",
   "execution_count": 8,
   "metadata": {},
   "outputs": [],
   "source": [
    "sarcasm_data.comment = sarcasm_data.comment.apply(data_cleaning)\n",
    "sarcasm_data.comment = sarcasm_data.comment.apply(remove_bad_words) #stop words\n",
    "sarcasm_data.comment = sarcasm_data.comment.apply(lematize)"
   ]
  },
  {
   "cell_type": "code",
   "execution_count": 9,
   "metadata": {},
   "outputs": [
    {
     "data": {
      "text/plain": [
       "<AxesSubplot:>"
      ]
     },
     "execution_count": 9,
     "metadata": {},
     "output_type": "execute_result"
    },
    {
     "data": {
      "image/png": "[encoded data removed]",
      "text/plain": [
       "<Figure size 432x288 with 1 Axes>"
      ]
     },
     "metadata": {
      "needs_background": "light"
     },
     "output_type": "display_data"
    }
   ],
   "source": [
    "sarcasm_data['label'].value_counts().sort_index().plot.bar()"
   ]
  },
  {
   "cell_type": "markdown",
   "metadata": {},
   "source": [
    "### The data is pretty much even, 505368 sarcastic sentences and 505405 not sarcastic."
   ]
  },
  {
   "cell_type": "code",
   "execution_count": 10,
   "metadata": {},
   "outputs": [
    {
     "name": "stdout",
     "output_type": "stream",
     "text": [
      "avg length of sarcastic comment: \n",
      "    comment\n",
      "0  5.671958\n",
      "avg  length of normal comment: \n",
      "    comment\n",
      "0  5.671974\n"
     ]
    }
   ],
   "source": [
    "sarcasticComments = sarcasm_data.loc[sarcasm_data['label'] == 1]\n",
    "normalComments = sarcasm_data.loc[sarcasm_data['label'] == 0 ]\n",
    "\n",
    "\n",
    "AVGSarcstic = pd.DataFrame([[]])\n",
    "AVGNormal = pd.DataFrame([[]])\n",
    "\n",
    "for col in sarcasticComments:\n",
    "    AVGSarcstic['comment'] = sarcasticComments['comment'].apply(len).mean()\n",
    "for col in normalComments:\n",
    "    AVGNormal['comment'] = normalComments['comment'].apply(len).mean()\n",
    "\n",
    "print(\"avg length of sarcastic comment: \")\n",
    "print(AVGSarcstic)\n",
    "print(\"avg  length of normal comment: \")\n",
    "print(AVGNormal)"
   ]
  },
  {
   "cell_type": "code",
   "execution_count": 11,
   "metadata": {},
   "outputs": [],
   "source": [
    "for i in range(len(sarcasm_data)):\n",
    "    wordFrequency(sarcasm_data['comment'].iloc[i],sarcasm_data['label'].iloc[i])"
   ]
  },
  {
   "cell_type": "code",
   "execution_count": 12,
   "metadata": {},
   "outputs": [],
   "source": [
    "try:\n",
    "    del normalDict[\"``\"]\n",
    "    del normalDict[\"...\"]\n",
    "    del sarcasticDict[\"``\"]\n",
    "    del sarcasticDict[\"...\"]\n",
    "except: \n",
    "    pass\n",
    "normalDictList = {k: v for k, v in sorted(normalDict.items(), key=lambda item: item[1],reverse=True)}\n",
    "sarcastictDictList = {k: v for k, v in sorted(sarcasticDict.items(), key=lambda item: item[1],reverse=True)}\n",
    "\n",
    "normalList = list(normalDictList.keys())\n",
    "sarcasticList = list(sarcastictDictList.keys())\n",
    "\n",
    "normalString = ' '.join(normalList)\n",
    "sarcasticString = ' '.join(sarcasticList)"
   ]
  },
  {
   "cell_type": "markdown",
   "metadata": {},
   "source": [
    "# Top 10 words in normal sentences"
   ]
  },
  {
   "cell_type": "code",
   "execution_count": 13,
   "metadata": {},
   "outputs": [
    {
     "data": {
      "image/png": "[encoded data removed]",
      "text/plain": [
       "<Figure size 432x288 with 1 Axes>"
      ]
     },
     "metadata": {
      "needs_background": "light"
     },
     "output_type": "display_data"
    }
   ],
   "source": [
    "plotList = list(normalDictList)[:10]\n",
    "plotDict = {}\n",
    "for word in plotList:\n",
    "    plotDict[word] = normalDictList[word]\n",
    "\n",
    "X = np.arange(len(plotDict))\n",
    "pl.bar(X, plotDict.values(), align='center', width=0.5)\n",
    "pl.xticks(X, plotDict.keys())\n",
    "ymax = max(plotDict.values()) + 1\n",
    "pl.ylim(0, ymax)\n",
    "pl.show()"
   ]
  },
  {
   "cell_type": "markdown",
   "metadata": {},
   "source": [
    "# Top 10 words in sarcastic sentences"
   ]
  },
  {
   "cell_type": "code",
   "execution_count": 14,
   "metadata": {},
   "outputs": [
    {
     "data": {
      "image/png": "[encoded data removed]",
      "text/plain": [
       "<Figure size 432x288 with 1 Axes>"
      ]
     },
     "metadata": {
      "needs_background": "light"
     },
     "output_type": "display_data"
    }
   ],
   "source": [
    "plotList = list(sarcastictDictList)[:10]\n",
    "plotDict = {}\n",
    "for word in plotList:\n",
    "    plotDict[word] = sarcastictDictList[word]\n",
    "\n",
    "X = np.arange(len(plotDict))\n",
    "pl.bar(X, plotDict.values(), align='center', width=0.5)\n",
    "pl.xticks(X, plotDict.keys())\n",
    "ymax = max(plotDict.values()) + 1\n",
    "pl.ylim(0, ymax)\n",
    "pl.show()"
   ]
  },
  {
   "cell_type": "markdown",
   "metadata": {},
   "source": [
    "# Normal WordCloud"
   ]
  },
  {
   "cell_type": "code",
   "execution_count": 15,
   "metadata": {},
   "outputs": [
    {
     "data": {
      "image/png": "[encoded data removed]",
      "text/plain": [
       "<Figure size 720x720 with 1 Axes>"
      ]
     },
     "metadata": {
      "needs_background": "light"
     },
     "output_type": "display_data"
    }
   ],
   "source": [
    "wordcloud = WordCloud(max_font_size=100, max_words=50, background_color=\"white\").generate(normalString)\n",
    "plt.figure(figsize=(10,10))\n",
    "plt.imshow(wordcloud, interpolation=\"bilinear\")\n",
    "plt.axis(\"off\")\n",
    "plt.show()"
   ]
  },
  {
   "cell_type": "markdown",
   "metadata": {},
   "source": [
    "# Sarcastic WordCloud"
   ]
  },
  {
   "cell_type": "code",
   "execution_count": 16,
   "metadata": {},
   "outputs": [
    {
     "data": {
      "image/png": "[encoded data removed]",
      "text/plain": [
       "<Figure size 720x720 with 1 Axes>"
      ]
     },
     "metadata": {
      "needs_background": "light"
     },
     "output_type": "display_data"
    }
   ],
   "source": [
    "wordcloud = WordCloud(max_font_size=100, max_words=50, background_color=\"white\").generate(sarcasticString)\n",
    "plt.figure(figsize=(10,10))\n",
    "plt.imshow(wordcloud, interpolation=\"bilinear\")\n",
    "plt.axis(\"off\")\n",
    "plt.show()"
   ]
  },
  {
   "cell_type": "markdown",
   "metadata": {},
   "source": [
    "# Shuffle the data"
   ]
  },
  {
   "cell_type": "code",
   "execution_count": 17,
   "metadata": {},
   "outputs": [],
   "source": [
    "sarcasm_data = sarcasm_data.sample(frac = 1) "
   ]
  },
  {
   "cell_type": "markdown",
   "metadata": {},
   "source": [
    "# Lets save the data before embedding."
   ]
  },
  {
   "cell_type": "code",
   "execution_count": 18,
   "metadata": {},
   "outputs": [],
   "source": [
    "with open(\"sarcasm_data_NOTEmbedded.pickle\",\"wb\") as f:\n",
    "     pickle.dump(sarcasm_data,f,protocol=pickle.HIGHEST_PROTOCOL)"
   ]
  },
  {
   "cell_type": "markdown",
   "metadata": {},
   "source": [
    "# Splitting the data into train 80%  and 20% test"
   ]
  },
  {
   "cell_type": "code",
   "execution_count": null,
   "metadata": {},
   "outputs": [],
   "source": [
    "sarcasm_data = {}\n",
    "with open('sarcasm_data_NOTEmbedded.pickle',\"rb\") as f:\n",
    "     sarcasm_data = pickle.load(f)"
   ]
  },
  {
   "cell_type": "code",
   "execution_count": 19,
   "metadata": {},
   "outputs": [],
   "source": [
    "split_into_train_test_dev()\n",
    "\n",
    "sarcasm_data[\"train\"].comment.apply(fit_on_train)\n",
    "max_len = sarcasm_data[\"train\"].comment.apply(len).max()\n",
    "\n",
    "for set in [\"train\",\"test\",\"dev\"]:     \n",
    "    sarcasm_data[set].comment = sarcasm_data[set].comment.apply(transform)\n",
    "    sarcasm_data[set].comment = sarcasm_data[set].comment.apply(lambda rev:rev+[0]\n",
    "                                                      *(max_len-len(rev)) \n",
    "                                   if len(rev)<max_len else rev[:max_len])\n",
    "    sarcasm_data[set] ={\"X\":np.array(sarcasm_data[set].comment.to_list()),\"Y\":np.array(sarcasm_data[set].label.to_list())}  "
   ]
  },
  {
   "cell_type": "markdown",
   "metadata": {},
   "source": [
    "# Build matrix from pretrained FastText Vectors."
   ]
  },
  {
   "cell_type": "code",
   "execution_count": 20,
   "metadata": {},
   "outputs": [
    {
     "name": "stdout",
     "output_type": "stream",
     "text": [
      "Loading FastText pre-trained vectors\n",
      "starting to build weight matrix for embedding encoding,  based on FastText pre-trained vectors\n",
      "pre-treind words: 30199 randomaly initilaized: 37339\n"
     ]
    }
   ],
   "source": [
    "build_weight_matrix()"
   ]
  },
  {
   "cell_type": "code",
   "execution_count": 21,
   "metadata": {},
   "outputs": [],
   "source": [
    "sarcasm_data['dict'] = dictionary"
   ]
  },
  {
   "cell_type": "markdown",
   "metadata": {},
   "source": [
    "# Save the data"
   ]
  },
  {
   "cell_type": "code",
   "execution_count": 22,
   "metadata": {},
   "outputs": [],
   "source": [
    "with open(\"sarcasm_data.pickle\",\"wb\") as f:\n",
    "     pickle.dump(sarcasm_data,f,protocol=pickle.HIGHEST_PROTOCOL)"
   ]
  },
  {
   "cell_type": "markdown",
   "metadata": {},
   "source": [
    "# Load the data"
   ]
  },
  {
   "cell_type": "code",
   "execution_count": 5,
   "metadata": {},
   "outputs": [],
   "source": [
    "dictionary = Dictionary()\n",
    "sarcasm_data = {}\n",
    "with open('sarcasm_data.pickle',\"rb\") as f:\n",
    "     sarcasm_data = pickle.load(f)"
   ]
  },
  {
   "cell_type": "markdown",
   "metadata": {},
   "source": [
    "## Building LSTM model"
   ]
  },
  {
   "cell_type": "code",
   "execution_count": 9,
   "metadata": {
    "scrolled": true
   },
   "outputs": [
    {
     "name": "stdout",
     "output_type": "stream",
     "text": [
      "Model: \"LSTM-128-TEST\"\n",
      "_________________________________________________________________\n",
      "Layer (type)                 Output Shape              Param #   \n",
      "=================================================================\n",
      "embedding (Embedding)        (None, None, 128)         17895680  \n",
      "_________________________________________________________________\n",
      "bi-lstm (Bidirectional)      (None, None, 256)         264192    \n",
      "_________________________________________________________________\n",
      "global_max_pooling1d (Global (None, 256)               0         \n",
      "_________________________________________________________________\n",
      "dense (Dense)                (None, 64)                16448     \n",
      "_________________________________________________________________\n",
      "dropout (Dropout)            (None, 64)                0         \n",
      "_________________________________________________________________\n",
      "dense_1 (Dense)              (None, 32)                2080      \n",
      "_________________________________________________________________\n",
      "dropout_1 (Dropout)          (None, 32)                0         \n",
      "_________________________________________________________________\n",
      "classifyer (Dense)           (None, 1)                 33        \n",
      "=================================================================\n",
      "Total params: 18,178,433\n",
      "Trainable params: 18,178,433\n",
      "Non-trainable params: 0\n",
      "_________________________________________________________________\n"
     ]
    }
   ],
   "source": [
    "\n",
    "model = tf.keras.Sequential([Embedding(len(sarcasm_data['dict'])+1 , 128),\n",
    "                    Bidirectional(CuDNNLSTM(128,return_sequences = True),name=\"bi-lstm\"),\n",
    "                    GlobalMaxPool1D(),\n",
    "                    Dense(64, activation=\"relu\"),\n",
    "                    Dropout(0.5),\n",
    "                    Dense(32, activation=\"relu\"),\n",
    "                    Dropout(0.5),\n",
    "                    Dense(1, activation='sigmoid',name='classifyer')],name=\"LSTM-128-TEST\")\n",
    "\n",
    "model.compile(loss='binary_crossentropy',\n",
    "              optimizer='adam',\n",
    "              metrics=['binary_accuracy'])\n",
    "model.summary()\n"
   ]
  },
  {
   "cell_type": "code",
   "execution_count": 10,
   "metadata": {
    "scrolled": false
   },
   "outputs": [
    {
     "name": "stdout",
     "output_type": "stream",
     "text": [
      "Train on 730283 samples, validate on 128874 samples\n",
      "Epoch 1/8\n",
      "730280/730283 [============================>.] - ETA: 0s - loss: 0.5965 - binary_accuracy: 0.6821\n",
      "Epoch 00001: val_binary_accuracy improved from -inf to 0.69231, saving model to Sarcasm_LSTM.h5\n",
      "730283/730283 [==============================] - 16631s 23ms/sample - loss: 0.5965 - binary_accuracy: 0.6821 - val_loss: 0.5767 - val_binary_accuracy: 0.6923\n",
      "Epoch 2/8\n",
      "730280/730283 [============================>.] - ETA: 0s - loss: 0.5379 - binary_accuracy: 0.7346\n",
      "Epoch 00002: val_binary_accuracy did not improve from 0.69231\n",
      "730283/730283 [==============================] - 15115s 21ms/sample - loss: 0.5379 - binary_accuracy: 0.7346 - val_loss: 0.5923 - val_binary_accuracy: 0.6866\n",
      "Epoch 3/8\n",
      "730280/730283 [============================>.] - ETA: 0s - loss: 0.4986 - binary_accuracy: 0.7587- ETA: 1s - loss: 0.4986 - binary_accuracy: 0\n",
      "Epoch 00003: val_binary_accuracy did not improve from 0.69231\n",
      "730283/730283 [==============================] - 14707s 20ms/sample - loss: 0.4986 - binary_accuracy: 0.7587 - val_loss: 0.5972 - val_binary_accuracy: 0.6854\n",
      "Epoch 4/8\n",
      "730280/730283 [============================>.] - ETA: 0s - loss: 0.4745 - binary_accuracy: 0.7718\n",
      "Epoch 00004: val_binary_accuracy did not improve from 0.69231\n",
      "730283/730283 [==============================] - 17265s 24ms/sample - loss: 0.4745 - binary_accuracy: 0.7718 - val_loss: 0.6146 - val_binary_accuracy: 0.6818\n",
      "Epoch 5/8\n",
      "730280/730283 [============================>.] - ETA: 0s - loss: 0.4555 - binary_accuracy: 0.7824\n",
      "Epoch 00005: val_binary_accuracy did not improve from 0.69231\n",
      "730283/730283 [==============================] - 16351s 22ms/sample - loss: 0.4555 - binary_accuracy: 0.7824 - val_loss: 0.6219 - val_binary_accuracy: 0.6818\n",
      "Epoch 6/8\n",
      "730280/730283 [============================>.] - ETA: 0s - loss: 0.4396 - binary_accuracy: 0.7909- ETA: 9s - loss: 0.4396 - binary_accuracy: 0.79 - ETA:\n",
      "Epoch 00006: val_binary_accuracy did not improve from 0.69231\n",
      "730283/730283 [==============================] - 15981s 22ms/sample - loss: 0.4396 - binary_accuracy: 0.7909 - val_loss: 0.7009 - val_binary_accuracy: 0.6777\n",
      "Epoch 7/8\n",
      "730280/730283 [============================>.] - ETA: 0s - loss: 0.5817 - binary_accuracy: 0.6231- ETA: 0s - loss: 0.5817 - binary_accuracy: 0.623\n",
      "Epoch 00007: val_binary_accuracy did not improve from 0.69231\n",
      "730283/730283 [==============================] - 17471s 24ms/sample - loss: 0.5817 - binary_accuracy: 0.6231 - val_loss: 0.6932 - val_binary_accuracy: 0.4975\n",
      "Epoch 8/8\n",
      "730280/730283 [============================>.] - ETA: 0s - loss: 0.6932 - binary_accuracy: 0.4994\n",
      "Epoch 00008: val_binary_accuracy did not improve from 0.69231\n",
      "730283/730283 [==============================] - 15476s 21ms/sample - loss: 0.6932 - binary_accuracy: 0.4994 - val_loss: 0.6931 - val_binary_accuracy: 0.5025\n"
     ]
    }
   ],
   "source": [
    "with tf.device('gpu'):\n",
    "    history = model.fit(sarcasm_data['train']['X'],\n",
    "    sarcasm_data['train']['Y'],\n",
    "    batch_size=10,\n",
    "    epochs=8,\n",
    "    validation_data=(sarcasm_data['dev']['X'],sarcasm_data['dev']['Y']),\n",
    "    callbacks=[checkpoint('Sarcasm_LSTM.h5')],\n",
    "    verbose=1)"
   ]
  },
  {
   "cell_type": "code",
   "execution_count": 18,
   "metadata": {},
   "outputs": [],
   "source": [
    "with open(\"history.pickle\",\"wb\") as f:\n",
    "     pickle.dump(history.history,f,protocol=pickle.HIGHEST_PROTOCOL)"
   ]
  },
  {
   "cell_type": "code",
   "execution_count": 14,
   "metadata": {},
   "outputs": [],
   "source": [
    "best_model = load_model('Sarcasm_LSTM.h5')\n",
    "history = {}\n",
    "pred = {}\n",
    "with open('history.pickle',\"rb\") as f:\n",
    "     history = pickle.load(f)\n",
    "with open('pred.pickle',\"rb\") as f:\n",
    "     pred = pickle.load(f)"
   ]
  },
  {
   "cell_type": "code",
   "execution_count": 16,
   "metadata": {},
   "outputs": [
    {
     "name": "stdout",
     "output_type": "stream",
     "text": [
      "               precision    recall  f1-score   support\n",
      "\n",
      "Not Sarcastic       0.69      0.70      0.69     75686\n",
      "    Sarcastic       0.70      0.69      0.70     75930\n",
      "\n",
      "     accuracy                           0.69    151616\n",
      "    macro avg       0.69      0.69      0.69    151616\n",
      " weighted avg       0.69      0.69      0.69    151616\n",
      "\n"
     ]
    }
   ],
   "source": [
    "print(classification_report(sarcasm_data['test']['Y'], pred, target_names = ['Not Sarcastic','Sarcastic']))"
   ]
  },
  {
   "cell_type": "code",
   "execution_count": 22,
   "metadata": {},
   "outputs": [
    {
     "data": {
      "image/png": "[encoded data removed]",
      "text/plain": [
       "<Figure size 432x288 with 1 Axes>"
      ]
     },
     "metadata": {
      "needs_background": "light"
     },
     "output_type": "display_data"
    },
    {
     "data": {
      "image/png": "[encoded data removed]",
      "text/plain": [
       "<Figure size 432x288 with 1 Axes>"
      ]
     },
     "metadata": {
      "needs_background": "light"
     },
     "output_type": "display_data"
    }
   ],
   "source": [
    "makeGraph(history)"
   ]
  },
  {
   "cell_type": "markdown",
   "metadata": {},
   "source": [
    "# Trying to imrpove the model, lets add more layers and learning rate."
   ]
  },
  {
   "cell_type": "code",
   "execution_count": 42,
   "metadata": {},
   "outputs": [],
   "source": [
    "from tensorflow.keras.optimizers import RMSprop\n",
    "learning_rate = 0.001\n",
    "decay = 1e-6\n",
    "opt = RMSprop(lr=learning_rate, decay=decay)"
   ]
  },
  {
   "cell_type": "code",
   "execution_count": 43,
   "metadata": {},
   "outputs": [
    {
     "name": "stdout",
     "output_type": "stream",
     "text": [
      "Model: \"LSTM-256-TEST\"\n",
      "_________________________________________________________________\n",
      "Layer (type)                 Output Shape              Param #   \n",
      "=================================================================\n",
      "embedding_8 (Embedding)      (None, None, 256)         35791360  \n",
      "_________________________________________________________________\n",
      "bi-lstm (Bidirectional)      (None, None, 512)         1052672   \n",
      "_________________________________________________________________\n",
      "global_max_pooling1d_8 (Glob (None, 512)               0         \n",
      "_________________________________________________________________\n",
      "dense_19 (Dense)             (None, 128)               65664     \n",
      "_________________________________________________________________\n",
      "dropout_19 (Dropout)         (None, 128)               0         \n",
      "_________________________________________________________________\n",
      "dense_20 (Dense)             (None, 64)                8256      \n",
      "_________________________________________________________________\n",
      "dropout_20 (Dropout)         (None, 64)                0         \n",
      "_________________________________________________________________\n",
      "dense_21 (Dense)             (None, 32)                2080      \n",
      "_________________________________________________________________\n",
      "dropout_21 (Dropout)         (None, 32)                0         \n",
      "_________________________________________________________________\n",
      "classifyer (Dense)           (None, 1)                 33        \n",
      "=================================================================\n",
      "Total params: 36,920,065\n",
      "Trainable params: 36,920,065\n",
      "Non-trainable params: 0\n",
      "_________________________________________________________________\n"
     ]
    }
   ],
   "source": [
    "model = tf.keras.Sequential([Embedding(len(sarcasm_data['dict'])+1 , 256),\n",
    "                    Bidirectional(CuDNNLSTM(256,return_sequences = True),name=\"bi-lstm\"),\n",
    "                    GlobalMaxPool1D(),\n",
    "                    Dense(128, activation=\"relu\"),\n",
    "                    Dropout(0.5),\n",
    "                    Dense(64, activation=\"relu\"),\n",
    "                    Dropout(0.5),\n",
    "                    Dense(32, activation=\"relu\"),\n",
    "                    Dropout(0.5),\n",
    "                    Dense(1, activation='sigmoid',name='classifyer')],name=\"LSTM-256-TEST\")\n",
    "\n",
    "model.compile(loss='binary_crossentropy',\n",
    "              optimizer=opt,\n",
    "              metrics=['binary_accuracy'])\n",
    "model.summary()"
   ]
  },
  {
   "cell_type": "code",
   "execution_count": 21,
   "metadata": {},
   "outputs": [
    {
     "name": "stdout",
     "output_type": "stream",
     "text": [
      "Train on 730283 samples, validate on 128874 samples\n",
      "Epoch 1/8\n",
      "730280/730283 [============================>.] - ETA: 0s - loss: 0.6735 - binary_accuracy: 0.6412\n",
      "Epoch 00001: val_binary_accuracy improved from -inf to 0.66884, saving model to Sarcasm_LSTM_LR.h5\n",
      "730283/730283 [==============================] - 19247s 26ms/sample - loss: 0.6735 - binary_accuracy: 0.6412 - val_loss: 0.7003 - val_binary_accuracy: 0.6688\n",
      "Epoch 2/8\n",
      "730280/730283 [============================>.] - ETA: 0s - loss: 0.7042 - binary_accuracy: 0.6349\n",
      "Epoch 00002: val_binary_accuracy improved from 0.66884 to 0.67212, saving model to Sarcasm_LSTM_LR.h5\n",
      "730283/730283 [==============================] - 20291s 28ms/sample - loss: 0.7042 - binary_accuracy: 0.6349 - val_loss: 0.6593 - val_binary_accuracy: 0.6721\n",
      "Epoch 3/8\n",
      "730280/730283 [============================>.] - ETA: 0s - loss: 0.6997 - binary_accuracy: 0.5511\n",
      "Epoch 00003: val_binary_accuracy did not improve from 0.67212\n",
      "730283/730283 [==============================] - 18870s 26ms/sample - loss: 0.6997 - binary_accuracy: 0.5511 - val_loss: 0.6931 - val_binary_accuracy: 0.4975\n",
      "Epoch 4/8\n",
      "730280/730283 [============================>.] - ETA: 0s - loss: 0.6932 - binary_accuracy: 0.5000\n",
      "Epoch 00004: val_binary_accuracy did not improve from 0.67212\n",
      "730283/730283 [==============================] - 21409s 29ms/sample - loss: 0.6932 - binary_accuracy: 0.5000 - val_loss: 0.6932 - val_binary_accuracy: 0.4975\n",
      "Epoch 5/8\n",
      "730280/730283 [============================>.] - ETA: 0s - loss: 0.6932 - binary_accuracy: 0.4995\n",
      "Epoch 00005: val_binary_accuracy did not improve from 0.67212\n",
      "730283/730283 [==============================] - 18972s 26ms/sample - loss: 0.6932 - binary_accuracy: 0.4995 - val_loss: 0.6931 - val_binary_accuracy: 0.4975\n",
      "Epoch 6/8\n",
      "730280/730283 [============================>.] - ETA: 0s - loss: 0.6932 - binary_accuracy: 0.4998\n",
      "Epoch 00006: val_binary_accuracy did not improve from 0.67212\n",
      "730283/730283 [==============================] - 20825s 29ms/sample - loss: 0.6932 - binary_accuracy: 0.4998 - val_loss: 0.6931 - val_binary_accuracy: 0.5025\n",
      "Epoch 7/8\n",
      "730280/730283 [============================>.] - ETA: 0s - loss: 0.6932 - binary_accuracy: 0.5002\n",
      "Epoch 00007: val_binary_accuracy did not improve from 0.67212\n",
      "730283/730283 [==============================] - 19243s 26ms/sample - loss: 0.6932 - binary_accuracy: 0.5002 - val_loss: 0.6933 - val_binary_accuracy: 0.4975\n",
      "Epoch 8/8\n",
      "730280/730283 [============================>.] - ETA: 0s - loss: 0.6932 - binary_accuracy: 0.5004\n",
      "Epoch 00008: val_binary_accuracy did not improve from 0.67212\n",
      "730283/730283 [==============================] - 18777s 26ms/sample - loss: 0.6932 - binary_accuracy: 0.5004 - val_loss: 0.6932 - val_binary_accuracy: 0.4975\n"
     ]
    }
   ],
   "source": [
    "with tf.device('gpu'):\n",
    "    history = model.fit(sarcasm_data['train']['X'],\n",
    "    sarcasm_data['train']['Y'],\n",
    "    batch_size=10,\n",
    "    epochs=8,\n",
    "    validation_data=(sarcasm_data['dev']['X'],sarcasm_data['dev']['Y']),\n",
    "    callbacks=[checkpoint('Sarcasm_LSTM_LR.h5')],\n",
    "    verbose=1)"
   ]
  },
  {
   "cell_type": "code",
   "execution_count": 28,
   "metadata": {},
   "outputs": [],
   "source": [
    "with open(\"history-LR.pickle\",\"wb\") as f:\n",
    "     pickle.dump(history.history,f,protocol=pickle.HIGHEST_PROTOCOL)"
   ]
  },
  {
   "cell_type": "code",
   "execution_count": 23,
   "metadata": {},
   "outputs": [],
   "source": [
    "best_model = load_model('Sarcasm_LSTM_LR.h5')"
   ]
  },
  {
   "cell_type": "code",
   "execution_count": 29,
   "metadata": {},
   "outputs": [],
   "source": [
    "with open('history-LR.pickle',\"rb\") as f:\n",
    "     history = pickle.load(f)"
   ]
  },
  {
   "cell_type": "code",
   "execution_count": 24,
   "metadata": {},
   "outputs": [],
   "source": [
    "pred=best_model.predict_classes(sarcasm_data['test']['X'])"
   ]
  },
  {
   "cell_type": "code",
   "execution_count": 31,
   "metadata": {},
   "outputs": [],
   "source": [
    "with open(\"pred-LR.pickle\",\"wb\") as f:\n",
    "     pickle.dump(pred,f,protocol=pickle.HIGHEST_PROTOCOL)"
   ]
  },
  {
   "cell_type": "code",
   "execution_count": 25,
   "metadata": {},
   "outputs": [
    {
     "name": "stdout",
     "output_type": "stream",
     "text": [
      "               precision    recall  f1-score   support\n",
      "\n",
      "Not Sarcastic       0.65      0.77      0.70     75686\n",
      "    Sarcastic       0.71      0.58      0.64     75930\n",
      "\n",
      "     accuracy                           0.67    151616\n",
      "    macro avg       0.68      0.67      0.67    151616\n",
      " weighted avg       0.68      0.67      0.67    151616\n",
      "\n"
     ]
    }
   ],
   "source": [
    "print(classification_report(sarcasm_data['test']['Y'], pred, target_names = ['Not Sarcastic','Sarcastic']))"
   ]
  },
  {
   "cell_type": "code",
   "execution_count": 30,
   "metadata": {},
   "outputs": [
    {
     "data": {
      "image/png": "[encoded data removed]",
      "text/plain": [
       "<Figure size 432x288 with 1 Axes>"
      ]
     },
     "metadata": {
      "needs_background": "light"
     },
     "output_type": "display_data"
    },
    {
     "data": {
      "image/png": "[encoded data removed]",
      "text/plain": [
       "<Figure size 432x288 with 1 Axes>"
      ]
     },
     "metadata": {
      "needs_background": "light"
     },
     "output_type": "display_data"
    }
   ],
   "source": [
    "makeGraph(history)"
   ]
  },
  {
   "cell_type": "markdown",
   "metadata": {},
   "source": [
    "# Trying to add embbedding weights."
   ]
  },
  {
   "cell_type": "code",
   "execution_count": 45,
   "metadata": {},
   "outputs": [
    {
     "name": "stdout",
     "output_type": "stream",
     "text": [
      "Model: \"LSTM-128-TEST_Weights\"\n",
      "_________________________________________________________________\n",
      "Layer (type)                 Output Shape              Param #   \n",
      "=================================================================\n",
      "embedding_10 (Embedding)     (None, None, 300)         41943000  \n",
      "_________________________________________________________________\n",
      "bi-lstm (Bidirectional)      (None, None, 256)         440320    \n",
      "_________________________________________________________________\n",
      "global_max_pooling1d_10 (Glo (None, 256)               0         \n",
      "_________________________________________________________________\n",
      "dense_24 (Dense)             (None, 64)                16448     \n",
      "_________________________________________________________________\n",
      "dropout_24 (Dropout)         (None, 64)                0         \n",
      "_________________________________________________________________\n",
      "dense_25 (Dense)             (None, 32)                2080      \n",
      "_________________________________________________________________\n",
      "dropout_25 (Dropout)         (None, 32)                0         \n",
      "_________________________________________________________________\n",
      "classifyer (Dense)           (None, 1)                 33        \n",
      "=================================================================\n",
      "Total params: 42,401,881\n",
      "Trainable params: 42,401,881\n",
      "Non-trainable params: 0\n",
      "_________________________________________________________________\n"
     ]
    }
   ],
   "source": [
    "model = tf.keras.Sequential([Embedding(len(sarcasm_data['dict'])+1 , 300,weights=[sarcasm_data['matrix'][:150000]]),\n",
    "                    Bidirectional(CuDNNLSTM(128,return_sequences = True),name=\"bi-lstm\"),\n",
    "                    GlobalMaxPool1D(),\n",
    " \n",
    "                    Dense(64, activation=\"relu\"),\n",
    "                    Dropout(0.5),\n",
    "                    Dense(32, activation=\"relu\"),\n",
    "                    Dropout(0.5),\n",
    "                    Dense(1, activation='sigmoid',name='classifyer')],name=\"LSTM-128-TEST_Weights\")\n",
    "\n",
    "model.compile(loss='binary_crossentropy',\n",
    "              optimizer='adam',\n",
    "              metrics=['binary_accuracy'])\n",
    "model.summary()"
   ]
  },
  {
   "cell_type": "code",
   "execution_count": 46,
   "metadata": {},
   "outputs": [
    {
     "name": "stdout",
     "output_type": "stream",
     "text": [
      "Train on 150000 samples, validate on 26471 samples\n",
      "Epoch 1/8\n",
      "149990/150000 [============================>.] - ETA: 0s - loss: 0.6265 - binary_accuracy: 0.6478\n",
      "Epoch 00001: val_binary_accuracy improved from -inf to 0.67689, saving model to LSTM-128-TEST_Weights.h5\n",
      "150000/150000 [==============================] - 6195s 41ms/sample - loss: 0.6265 - binary_accuracy: 0.6478 - val_loss: 0.6048 - val_binary_accuracy: 0.6769\n",
      "Epoch 2/8\n",
      "149990/150000 [============================>.] - ETA: 0s - loss: 0.5556 - binary_accuracy: 0.7227\n",
      "Epoch 00002: val_binary_accuracy did not improve from 0.67689\n",
      "150000/150000 [==============================] - 5182s 35ms/sample - loss: 0.5556 - binary_accuracy: 0.7227 - val_loss: 0.6024 - val_binary_accuracy: 0.6729\n",
      "Epoch 3/8\n",
      "149990/150000 [============================>.] - ETA: 0s - loss: 0.4810 - binary_accuracy: 0.7753\n",
      "Epoch 00003: val_binary_accuracy did not improve from 0.67689\n",
      "150000/150000 [==============================] - 5594s 37ms/sample - loss: 0.4810 - binary_accuracy: 0.7753 - val_loss: 0.6246 - val_binary_accuracy: 0.6645\n",
      "Epoch 4/8\n",
      "149990/150000 [============================>.] - ETA: 0s - loss: 0.4112 - binary_accuracy: 0.8141\n",
      "Epoch 00004: val_binary_accuracy did not improve from 0.67689\n",
      "150000/150000 [==============================] - 5797s 39ms/sample - loss: 0.4112 - binary_accuracy: 0.8141 - val_loss: 0.6967 - val_binary_accuracy: 0.6592\n",
      "Epoch 5/8\n",
      "149990/150000 [============================>.] - ETA: 0s - loss: 0.3446 - binary_accuracy: 0.8471\n",
      "Epoch 00005: val_binary_accuracy did not improve from 0.67689\n",
      "150000/150000 [==============================] - 5379s 36ms/sample - loss: 0.3446 - binary_accuracy: 0.8471 - val_loss: 0.9122 - val_binary_accuracy: 0.6541\n",
      "Epoch 6/8\n",
      "149990/150000 [============================>.] - ETA: 0s - loss: 0.2865 - binary_accuracy: 0.8721\n",
      "Epoch 00006: val_binary_accuracy did not improve from 0.67689\n",
      "150000/150000 [==============================] - 5349s 36ms/sample - loss: 0.2865 - binary_accuracy: 0.8721 - val_loss: 0.9454 - val_binary_accuracy: 0.6443\n",
      "Epoch 7/8\n",
      "149990/150000 [============================>.] - ETA: 0s - loss: 0.2395 - binary_accuracy: 0.8940\n",
      "Epoch 00007: val_binary_accuracy did not improve from 0.67689\n",
      "150000/150000 [==============================] - 5362s 36ms/sample - loss: 0.2395 - binary_accuracy: 0.8940 - val_loss: 1.0983 - val_binary_accuracy: 0.6448\n",
      "Epoch 8/8\n",
      "149990/150000 [============================>.] - ETA: 0s - loss: 0.2056 - binary_accuracy: 0.9097\n",
      "Epoch 00008: val_binary_accuracy did not improve from 0.67689\n",
      "150000/150000 [==============================] - 5343s 36ms/sample - loss: 0.2055 - binary_accuracy: 0.9097 - val_loss: 1.3011 - val_binary_accuracy: 0.6396\n"
     ]
    }
   ],
   "source": [
    "with tf.device('gpu'):\n",
    "    history = model.fit(sarcasm_data['train']['X'][:150000],\n",
    "    sarcasm_data['train']['Y'][:150000],\n",
    "    batch_size=10,\n",
    "    epochs=8,\n",
    "    validation_data=(sarcasm_data['dev']['X'][:26471],sarcasm_data['dev']['Y'][:26471]),\n",
    "    callbacks=[checkpoint('LSTM-128-TEST_Weights.h5')],\n",
    "    verbose=1)"
   ]
  },
  {
   "cell_type": "code",
   "execution_count": 47,
   "metadata": {},
   "outputs": [],
   "source": [
    "with open(\"history_weighted.pickle\",\"wb\") as f:\n",
    "     pickle.dump(history.history,f,protocol=pickle.HIGHEST_PROTOCOL)"
   ]
  },
  {
   "cell_type": "code",
   "execution_count": 6,
   "metadata": {},
   "outputs": [],
   "source": [
    "best_model = load_model('LSTM-128-TEST_Weights.h5')"
   ]
  },
  {
   "cell_type": "code",
   "execution_count": 7,
   "metadata": {},
   "outputs": [],
   "source": [
    "with open('history_weighted.pickle',\"rb\") as f:\n",
    "     history = pickle.load(f)"
   ]
  },
  {
   "cell_type": "code",
   "execution_count": 8,
   "metadata": {},
   "outputs": [],
   "source": [
    "pred=best_model.predict_classes(sarcasm_data['test']['X'][:26471])"
   ]
  },
  {
   "cell_type": "code",
   "execution_count": 9,
   "metadata": {},
   "outputs": [],
   "source": [
    "with open(\"pred_weights.pickle\",\"wb\") as f:\n",
    "     pickle.dump(pred,f,protocol=pickle.HIGHEST_PROTOCOL)"
   ]
  },
  {
   "cell_type": "code",
   "execution_count": 12,
   "metadata": {},
   "outputs": [
    {
     "name": "stdout",
     "output_type": "stream",
     "text": [
      "               precision    recall  f1-score   support\n",
      "\n",
      "Not Sarcastic       0.65      0.78      0.71     13342\n",
      "    Sarcastic       0.72      0.58      0.64     13129\n",
      "\n",
      "     accuracy                           0.68     26471\n",
      "    macro avg       0.69      0.68      0.68     26471\n",
      " weighted avg       0.69      0.68      0.68     26471\n",
      "\n"
     ]
    }
   ],
   "source": [
    "print(classification_report(sarcasm_data['test']['Y'][:26471], pred, target_names = ['Not Sarcastic','Sarcastic']))"
   ]
  },
  {
   "cell_type": "code",
   "execution_count": 13,
   "metadata": {},
   "outputs": [
    {
     "data": {
      "image/png": "[encoded data removed]",
      "text/plain": [
       "<Figure size 432x288 with 1 Axes>"
      ]
     },
     "metadata": {
      "needs_background": "light"
     },
     "output_type": "display_data"
    },
    {
     "data": {
      "image/png": "[encoded data removed]",
      "text/plain": [
       "<Figure size 432x288 with 1 Axes>"
      ]
     },
     "metadata": {
      "needs_background": "light"
     },
     "output_type": "display_data"
    }
   ],
   "source": [
    "makeGraph(history)"
   ]
  },
  {
   "cell_type": "markdown",
   "metadata": {},
   "source": [
    "# Lets try BERT model"
   ]
  },
  {
   "cell_type": "code",
   "execution_count": 5,
   "metadata": {},
   "outputs": [],
   "source": [
    "import numpy as np\n",
    "import pandas as pd\n",
    "import seaborn as sns\n",
    "import matplotlib.pyplot as plt\n",
    "import plotly.express as px\n",
    "\n",
    "import nltk\n",
    "from sklearn.feature_extraction.text import CountVectorizer\n",
    "from nltk.corpus import stopwords\n",
    "from wordcloud import WordCloud,STOPWORDS\n",
    "from nltk.stem import WordNetLemmatizer\n",
    "from nltk.tokenize import word_tokenize\n",
    "from bs4 import BeautifulSoup\n",
    "import re,string,unicodedata\n",
    "from sklearn.metrics import classification_report,confusion_matrix,accuracy_score,f1_score\n",
    "from sklearn.model_selection import train_test_split\n",
    "from string import punctuation\n",
    "from nltk import pos_tag\n",
    "from nltk.corpus import wordnet\n",
    "\n",
    "import pickle\n",
    "import keras\n",
    "import tensorflow as tf\n",
    "import tensorflow_hub as hub\n",
    "from tensorflow import keras \n",
    "from keras import backend as K\n",
    "from tensorflow.keras.preprocessing import sequence\n",
    "from tensorflow.keras.preprocessing.text import Tokenizer\n",
    "from tensorflow.keras.preprocessing.sequence import pad_sequences\n",
    "from tensorflow.keras.optimizers import Adam\n",
    "from tensorflow.keras.layers import LSTM,Dense,Bidirectional,Input\n",
    "from tensorflow.keras.models import Model\n",
    "import torch\n",
    "import transformers\n",
    "\n",
    "from tensorflow.keras.callbacks import ModelCheckpoint\n",
    "def checkpointBert(name:str):\n",
    "    return ModelCheckpoint(name,save_format='tf', monitor='val_accuracy', verbose=1, save_best_only=True,\n",
    "                                   save_weights_only=False, mode='auto')"
   ]
  },
  {
   "cell_type": "code",
   "execution_count": 52,
   "metadata": {},
   "outputs": [],
   "source": [
    "sarcasm_data = {}\n",
    "with open('sarcasm_data_NOTEmbedded.pickle',\"rb\") as f:\n",
    "     sarcasm_data = pickle.load(f)"
   ]
  },
  {
   "cell_type": "code",
   "execution_count": 23,
   "metadata": {},
   "outputs": [],
   "source": [
    "def join(comment):\n",
    "    comment= ' '.join(comment)\n",
    "    return comment"
   ]
  },
  {
   "cell_type": "code",
   "execution_count": 54,
   "metadata": {},
   "outputs": [],
   "source": [
    "sarcasm_data.comment = sarcasm_data.comment.apply(join)"
   ]
  },
  {
   "cell_type": "code",
   "execution_count": 55,
   "metadata": {},
   "outputs": [
    {
     "data": {
      "text/html": [
       "<div>\n",
       "<style scoped>\n",
       "    .dataframe tbody tr th:only-of-type {\n",
       "        vertical-align: middle;\n",
       "    }\n",
       "\n",
       "    .dataframe tbody tr th {\n",
       "        vertical-align: top;\n",
       "    }\n",
       "\n",
       "    .dataframe thead th {\n",
       "        text-align: right;\n",
       "    }\n",
       "</style>\n",
       "<table border=\"1\" class=\"dataframe\">\n",
       "  <thead>\n",
       "    <tr style=\"text-align: right;\">\n",
       "      <th></th>\n",
       "      <th>label</th>\n",
       "      <th>comment</th>\n",
       "    </tr>\n",
       "  </thead>\n",
       "  <tbody>\n",
       "    <tr>\n",
       "      <th>957513</th>\n",
       "      <td>0</td>\n",
       "      <td>guy would like marry</td>\n",
       "    </tr>\n",
       "    <tr>\n",
       "      <th>133462</th>\n",
       "      <td>0</td>\n",
       "      <td>internet connectivity issue</td>\n",
       "    </tr>\n",
       "    <tr>\n",
       "      <th>330886</th>\n",
       "      <td>1</td>\n",
       "      <td>finally someone knowhow turn yahoo around</td>\n",
       "    </tr>\n",
       "    <tr>\n",
       "      <th>995298</th>\n",
       "      <td>1</td>\n",
       "      <td>different</td>\n",
       "    </tr>\n",
       "    <tr>\n",
       "      <th>521678</th>\n",
       "      <td>1</td>\n",
       "      <td>nah sure thing</td>\n",
       "    </tr>\n",
       "  </tbody>\n",
       "</table>\n",
       "</div>"
      ],
      "text/plain": [
       "        label                                    comment\n",
       "957513      0                       guy would like marry\n",
       "133462      0                internet connectivity issue\n",
       "330886      1  finally someone knowhow turn yahoo around\n",
       "995298      1                                  different\n",
       "521678      1                             nah sure thing"
      ]
     },
     "execution_count": 55,
     "metadata": {},
     "output_type": "execute_result"
    }
   ],
   "source": [
    "sarcastic = sarcasm_data.loc[sarcasm_data['label'] == 1]\n",
    "normal = sarcasm_data.loc[sarcasm_data['label'] == 0]\n",
    "\n",
    "sarcastic = sarcastic.sample(frac = 1)\n",
    "normal = normal.sample(frac = 1) \n",
    "\n",
    "sarcasm_data = 0\n",
    "sarcasm_data = pd.concat([normal,sarcastic])\n",
    "\n",
    "sarcasm_data = sarcasm_data.sample(frac = 1) \n",
    "\n",
    "labels = sarcasm_data['label']\n",
    "sentences = sarcasm_data['comment']\n",
    "sarcasm_data.head()"
   ]
  },
  {
   "cell_type": "code",
   "execution_count": 56,
   "metadata": {},
   "outputs": [],
   "source": [
    "X_train,X_test,y_train,y_test = train_test_split(sentences,labels,random_state = 0 , stratify = labels,test_size=0.15)"
   ]
  },
  {
   "cell_type": "code",
   "execution_count": 22,
   "metadata": {},
   "outputs": [],
   "source": [
    "from tokenizers import BertWordPieceTokenizer\n",
    "tokenizer = transformers.DistilBertTokenizer.from_pretrained('distilbert-base-uncased' , lower = True)\n",
    "tokenizer.save_pretrained('.')\n",
    "fast_tokenizer = BertWordPieceTokenizer('vocab.txt', lowercase=True)\n"
   ]
  },
  {
   "cell_type": "code",
   "execution_count": 21,
   "metadata": {},
   "outputs": [],
   "source": [
    "def fast_encode(texts, tokenizer, chunk_size=256, maxlen=100):\n",
    "\n",
    "    tokenizer.enable_truncation(max_length=maxlen)\n",
    "    tokenizer.enable_padding(length=maxlen)\n",
    "    all_ids = []\n",
    "    \n",
    "    for i in range(0, len(texts), chunk_size):\n",
    "        text_chunk = texts[i:i+chunk_size].tolist()\n",
    "        encs = tokenizer.encode_batch(text_chunk)\n",
    "        all_ids.extend([enc.ids for enc in encs])\n",
    "    \n",
    "    return np.array(all_ids)"
   ]
  },
  {
   "cell_type": "code",
   "execution_count": 59,
   "metadata": {},
   "outputs": [],
   "source": [
    "x_train = fast_encode(X_train.values, fast_tokenizer, maxlen=100)\n",
    "x_test = fast_encode(X_test.values, fast_tokenizer, maxlen=100)"
   ]
  },
  {
   "cell_type": "code",
   "execution_count": 60,
   "metadata": {},
   "outputs": [],
   "source": [
    "def build_model(transformer, max_len=100):\n",
    "    \n",
    "    input_word_ids = Input(shape=(max_len,), dtype=tf.int32, name=\"input_word_ids\")\n",
    "    sequence_output = transformer(input_word_ids)[0]\n",
    "    cls_token = sequence_output[:, 0, :]\n",
    "    out = Dense(1, activation='sigmoid')(cls_token)\n",
    "    \n",
    "    model = Model(inputs=input_word_ids, outputs=out)\n",
    "    model.compile(Adam(lr=2e-5), loss='binary_crossentropy', metrics=['accuracy'])\n",
    "    \n",
    "    return model"
   ]
  },
  {
   "cell_type": "code",
   "execution_count": 61,
   "metadata": {},
   "outputs": [],
   "source": [
    "bert_model = transformers.TFDistilBertModel.from_pretrained('distilbert-base-uncased')"
   ]
  },
  {
   "cell_type": "code",
   "execution_count": 62,
   "metadata": {},
   "outputs": [
    {
     "name": "stdout",
     "output_type": "stream",
     "text": [
      "Model: \"model_3\"\n",
      "_________________________________________________________________\n",
      "Layer (type)                 Output Shape              Param #   \n",
      "=================================================================\n",
      "input_word_ids (InputLayer)  [(None, 100)]             0         \n",
      "_________________________________________________________________\n",
      "tf_distil_bert_model_3 (TFDi ((None, 100, 768),)       66362880  \n",
      "_________________________________________________________________\n",
      "tf_op_layer_strided_slice_3  [(None, 768)]             0         \n",
      "_________________________________________________________________\n",
      "dense_3 (Dense)              (None, 1)                 769       \n",
      "=================================================================\n",
      "Total params: 66,363,649\n",
      "Trainable params: 66,363,649\n",
      "Non-trainable params: 0\n",
      "_________________________________________________________________\n"
     ]
    }
   ],
   "source": [
    "model = build_model(bert_model, max_len=100)\n",
    "model.summary()"
   ]
  },
  {
   "cell_type": "code",
   "execution_count": 63,
   "metadata": {},
   "outputs": [],
   "source": [
    "x_train = np.asarray(x_train)\n",
    "y_train = np.asarray(y_train)\n",
    "x_test = np.asarray(x_test)\n",
    "y_test = np.asarray(y_test)"
   ]
  },
  {
   "cell_type": "code",
   "execution_count": 64,
   "metadata": {},
   "outputs": [
    {
     "name": "stdout",
     "output_type": "stream",
     "text": [
      "Train on 859157 samples, validate on 151616 samples\n",
      "Epoch 1/3\n",
      "859157/859157 [==============================] - 7993s 9ms/sample - loss: 0.5753 - accuracy: 0.6938 - val_loss: 0.5545 - val_accuracy: 0.7123\n",
      "Epoch 2/3\n",
      "859157/859157 [==============================] - 7626s 9ms/sample - loss: 0.5281 - accuracy: 0.7339 - val_loss: 0.5503 - val_accuracy: 0.7154\n",
      "Epoch 3/3\n",
      "859157/859157 [==============================] - 7633s 9ms/sample - loss: 0.4786 - accuracy: 0.7698 - val_loss: 0.5613 - val_accuracy: 0.7138\n"
     ]
    }
   ],
   "source": [
    "with tf.device('gpu'):\n",
    "    history = model.fit(x_train,\n",
    "                        y_train,\n",
    "                        batch_size = 10,\n",
    "                        validation_data=(x_test,y_test),\n",
    "                        epochs = 3)"
   ]
  },
  {
   "cell_type": "markdown",
   "metadata": {},
   "source": [
    "# Save BERT model"
   ]
  },
  {
   "cell_type": "code",
   "execution_count": 65,
   "metadata": {},
   "outputs": [
    {
     "name": "stdout",
     "output_type": "stream",
     "text": [
      "WARNING:tensorflow:Skipping full serialization of Keras layer <tensorflow.python.keras.layers.core.Dropout object at 0x000001F803E5D248>, because it is not built.\n",
      "WARNING:tensorflow:Skipping full serialization of Keras layer <tensorflow.python.keras.layers.core.Dropout object at 0x000001F803E70B48>, because it is not built.\n",
      "WARNING:tensorflow:Skipping full serialization of Keras layer <tensorflow.python.keras.layers.core.Dropout object at 0x000001F803F9FB08>, because it is not built.\n",
      "WARNING:tensorflow:Skipping full serialization of Keras layer <tensorflow.python.keras.layers.core.Dropout object at 0x000001F803FC3108>, because it is not built.\n",
      "WARNING:tensorflow:Skipping full serialization of Keras layer <tensorflow.python.keras.layers.core.Dropout object at 0x000001F803FC1C48>, because it is not built.\n",
      "WARNING:tensorflow:Skipping full serialization of Keras layer <tensorflow.python.keras.layers.core.Dropout object at 0x000001F80A2936C8>, because it is not built.\n",
      "INFO:tensorflow:Assets written to: C:/Users/Alex/assets\n"
     ]
    }
   ],
   "source": [
    "model.save('C:/Users/Alex/')"
   ]
  },
  {
   "cell_type": "code",
   "execution_count": 66,
   "metadata": {},
   "outputs": [],
   "source": [
    "with open(\"history_Bert.pickle\",\"wb\") as f:\n",
    "     pickle.dump(history.history,f,protocol=pickle.HIGHEST_PROTOCOL)"
   ]
  },
  {
   "cell_type": "markdown",
   "metadata": {},
   "source": [
    "# Load BERT model"
   ]
  },
  {
   "cell_type": "code",
   "execution_count": 6,
   "metadata": {},
   "outputs": [],
   "source": [
    "restored_keras_model = tf.keras.models.load_model('C:/Users/Alex/')"
   ]
  },
  {
   "cell_type": "code",
   "execution_count": 7,
   "metadata": {},
   "outputs": [],
   "source": [
    "history = 0\n",
    "with open('history_Bert.pickle',\"rb\") as f:\n",
    "     history = pickle.load(f)"
   ]
  },
  {
   "cell_type": "code",
   "execution_count": 69,
   "metadata": {},
   "outputs": [
    {
     "name": "stdout",
     "output_type": "stream",
     "text": [
      "              precision    recall  f1-score   support\n",
      "\n",
      "           0       0.69      0.77      0.73     75811\n",
      "           1       0.74      0.66      0.70     75805\n",
      "\n",
      "    accuracy                           0.71    151616\n",
      "   macro avg       0.72      0.71      0.71    151616\n",
      "weighted avg       0.72      0.71      0.71    151616\n",
      "\n"
     ]
    }
   ],
   "source": [
    "pred = restored_keras_model.predict(x_test)\n",
    "pred = np.round(pred).astype(int)\n",
    "print(classification_report(y_test, pred))"
   ]
  },
  {
   "cell_type": "code",
   "execution_count": 73,
   "metadata": {},
   "outputs": [
    {
     "data": {
      "image/png": "[encoded data removed]",
      "text/plain": [
       "<Figure size 432x288 with 1 Axes>"
      ]
     },
     "metadata": {
      "needs_background": "light"
     },
     "output_type": "display_data"
    },
    {
     "data": {
      "image/png": "[encoded data removed]",
      "text/plain": [
       "<Figure size 432x288 with 1 Axes>"
      ]
     },
     "metadata": {
      "needs_background": "light"
     },
     "output_type": "display_data"
    }
   ],
   "source": [
    "makeGraphBert(history)"
   ]
  },
  {
   "cell_type": "markdown",
   "metadata": {},
   "source": [
    "# Voting Classifier Test"
   ]
  },
  {
   "cell_type": "code",
   "execution_count": 9,
   "metadata": {},
   "outputs": [],
   "source": [
    "from sklearn.ensemble import RandomForestClassifier \n",
    "from sklearn.linear_model import LogisticRegression \n",
    "from sklearn.neighbors import KNeighborsClassifier\n",
    "from sklearn.ensemble import VotingClassifier \n",
    "from sklearn.model_selection import train_test_split\n",
    "from sklearn.preprocessing import MinMaxScaler\n",
    "from sklearn.svm import LinearSVC"
   ]
  },
  {
   "cell_type": "code",
   "execution_count": 10,
   "metadata": {},
   "outputs": [],
   "source": [
    "log_clf = LogisticRegression(solver='lbfgs', max_iter=1000)\n",
    "rnd_clf = RandomForestClassifier()\n",
    "knn_clf = KNeighborsClassifier()\n",
    "svm_clf = LinearSVC(random_state=0, tol=1e-5,max_iter=25000)"
   ]
  },
  {
   "cell_type": "code",
   "execution_count": 30,
   "metadata": {},
   "outputs": [],
   "source": [
    "vot_clf = VotingClassifier(estimators = [('lr', log_clf), ('rnd', rnd_clf), ('knn', knn_clf),('svm',svm_clf)], voting = 'soft')"
   ]
  },
  {
   "cell_type": "code",
   "execution_count": 11,
   "metadata": {},
   "outputs": [],
   "source": [
    "sarcasm_data = {}\n",
    "with open('sarcasm_data_NOTEmbedded.pickle',\"rb\") as f:\n",
    "     sarcasm_data = pickle.load(f)\n",
    "sarcasm_data.comment = sarcasm_data.comment.apply(join)\n",
    "sarcasm_data = sarcasm_data.sample(frac = 1) "
   ]
  },
  {
   "cell_type": "code",
   "execution_count": 12,
   "metadata": {},
   "outputs": [],
   "source": [
    "testSentences = sarcasm_data['comment']\n",
    "testLabels = sarcasm_data['label']\n",
    "testSentences = fast_encode(testSentences.values, fast_tokenizer, maxlen=100)"
   ]
  },
  {
   "cell_type": "code",
   "execution_count": 13,
   "metadata": {},
   "outputs": [],
   "source": [
    "x_train, x_test, y_train, y_test = train_test_split(testSentences, testLabels, random_state = 42, train_size = 0.85)"
   ]
  },
  {
   "cell_type": "code",
   "execution_count": 14,
   "metadata": {},
   "outputs": [],
   "source": [
    "scaling = MinMaxScaler(feature_range=(-1,1)).fit(x_train)\n",
    "x_train = scaling.transform(x_train)\n",
    "x_test = scaling.transform(x_test)"
   ]
  },
  {
   "cell_type": "code",
   "execution_count": null,
   "metadata": {},
   "outputs": [],
   "source": [
    "vot_clf.fit(x_train, y_train)"
   ]
  },
  {
   "cell_type": "code",
   "execution_count": null,
   "metadata": {},
   "outputs": [],
   "source": [
    "with open(\"vot_clf.pickle\",\"wb\") as f:\n",
    "     pickle.dump(vot_clf,f,protocol=pickle.HIGHEST_PROTOCOL)"
   ]
  },
  {
   "cell_type": "code",
   "execution_count": 15,
   "metadata": {},
   "outputs": [],
   "source": [
    "vot_clf = {}\n",
    "with open('vot_clf.pickle',\"rb\") as f:\n",
    "     vot_clf = pickle.load(f)"
   ]
  },
  {
   "cell_type": "code",
   "execution_count": 16,
   "metadata": {
    "scrolled": true
   },
   "outputs": [
    {
     "name": "stdout",
     "output_type": "stream",
     "text": [
      "LogisticRegression 0.5299704516673702\n",
      "RandomForestClassifier 0.5946404073448712\n",
      "LinearSVC 0.529891304347826\n",
      "KNeighborsClassifier 0.5460769311945969\n",
      "VotingClassifier 0.5395868509919798\n"
     ]
    }
   ],
   "source": [
    "from sklearn.metrics import accuracy_score\n",
    "for clf in (log_clf, rnd_clf, svm_clf,knn_clf, vot_clf):\n",
    "    clf.fit(x_train,y_train)\n",
    "    y_pred = clf.predict(x_test)\n",
    "    with open('%s.pickle' % clf.__class__.__name__,\"wb\") as f:\n",
    "        pickle.dump(y_pred,f,protocol=pickle.HIGHEST_PROTOCOL)\n",
    "    print(clf.__class__.__name__, accuracy_score(y_test,y_pred))"
   ]
  },
  {
   "cell_type": "code",
   "execution_count": 17,
   "metadata": {},
   "outputs": [],
   "source": [
    "BI_LSTM = load_model('Sarcasm_LSTM.h5') #69.2%\n",
    "BI_STLM_WEIGHTS = load_model('LSTM-128-TEST_Weights.h5') #68.2%\n",
    "BERT = tf.keras.models.load_model('C:/Users/Alex/') #71.5%\n"
   ]
  },
  {
   "cell_type": "code",
   "execution_count": 50,
   "metadata": {},
   "outputs": [],
   "source": [
    "sarcasm_data = {}\n",
    "with open('sarcasm_data_NOTEmbedded.pickle',\"rb\") as f:\n",
    "     sarcasm_data = pickle.load(f)\n",
    "sarcasm_data.comment = sarcasm_data.comment.apply(join)\n",
    "sarcasm_data = sarcasm_data.sample(frac = 1) "
   ]
  },
  {
   "cell_type": "code",
   "execution_count": 51,
   "metadata": {},
   "outputs": [],
   "source": [
    "testSentences = sarcasm_data['comment'][:200000]\n",
    "testSentences = fast_encode(testSentences.values, fast_tokenizer, maxlen=100)"
   ]
  },
  {
   "cell_type": "code",
   "execution_count": 52,
   "metadata": {},
   "outputs": [],
   "source": [
    "BI_LSTMpredictions = BI_LSTM.predict_classes(testSentences)"
   ]
  },
  {
   "cell_type": "code",
   "execution_count": 53,
   "metadata": {},
   "outputs": [],
   "source": [
    "with open(\"BI_LSTMpredictions.pickle\",\"wb\") as f:\n",
    "     pickle.dump(BI_LSTMpredictions,f,protocol=pickle.HIGHEST_PROTOCOL)"
   ]
  },
  {
   "cell_type": "code",
   "execution_count": 54,
   "metadata": {},
   "outputs": [],
   "source": [
    "BI_STLM_WEIGHTSprediction = BI_STLM_WEIGHTS.predict_classes(testSentences)"
   ]
  },
  {
   "cell_type": "code",
   "execution_count": 55,
   "metadata": {},
   "outputs": [],
   "source": [
    "with open(\"BI_STLM_WEIGHTSprediction.pickle\",\"wb\") as f:\n",
    "     pickle.dump(BI_STLM_WEIGHTSprediction,f,protocol=pickle.HIGHEST_PROTOCOL)"
   ]
  },
  {
   "cell_type": "code",
   "execution_count": 56,
   "metadata": {},
   "outputs": [],
   "source": [
    "BERTprediction = BERT.predict(testSentences)"
   ]
  },
  {
   "cell_type": "code",
   "execution_count": 57,
   "metadata": {},
   "outputs": [],
   "source": [
    "with open(\"BERTprediction.pickle\",\"wb\") as f:\n",
    "     pickle.dump(BERTprediction,f,protocol=pickle.HIGHEST_PROTOCOL)"
   ]
  },
  {
   "cell_type": "code",
   "execution_count": 58,
   "metadata": {},
   "outputs": [],
   "source": [
    "BERTprediction = {}\n",
    "BI_LSTM_WEIGHTSprediction = {}\n",
    "BI_LSTMpredictions = {}\n",
    "\n",
    "with open('BI_LSTMpredictions.pickle',\"rb\") as f:\n",
    "     BI_LSTMpredictions = pickle.load(f)\n",
    "with open('BI_STLM_WEIGHTSprediction.pickle',\"rb\") as f:\n",
    "     BI_LSTM_WEIGHTSprediction = pickle.load(f)\n",
    "with open('BERTprediction.pickle',\"rb\") as f:\n",
    "     BERTprediction = pickle.load(f)"
   ]
  },
  {
   "cell_type": "code",
   "execution_count": 59,
   "metadata": {},
   "outputs": [],
   "source": [
    "def normalizePropability(model):\n",
    "    listValues = []\n",
    "    for pred in range(len(model)):\n",
    "        if model[pred] >= 0.50:\n",
    "            listValues.append(1)\n",
    "        else:\n",
    "            listValues.append(0)\n",
    "    return listValues"
   ]
  },
  {
   "cell_type": "code",
   "execution_count": 60,
   "metadata": {},
   "outputs": [],
   "source": [
    "BERTlist = normalizePropability(BERTprediction)\n",
    "BI_LSTM_WEIGHTSlist = normalizePropability(BI_LSTM_WEIGHTSprediction)\n",
    "BI_LSTMlist = normalizePropability(BI_LSTMpredictions)"
   ]
  },
  {
   "cell_type": "code",
   "execution_count": 61,
   "metadata": {},
   "outputs": [],
   "source": [
    "# 3 models -> majority is 2.\n",
    "from collections import Counter\n",
    "def namestr(obj, namespace):\n",
    "    return [name for name in namespace if namespace[name] is obj]\n",
    "\n",
    "models = [BERTlist, BI_LSTM_WEIGHTSlist, BI_LSTMlist]\n",
    "\n",
    "modelDict = {}\n",
    "modelDict['BERTlist'] = 0\n",
    "modelDict['BI_LSTM_WEIGHTSlist'] = 0\n",
    "modelDict['BI_LSTMlist'] = 0\n",
    "\n",
    "for i in range(len(BERTlist)):\n",
    "    majorList = []\n",
    "    for model in models:\n",
    "        majorList.append(model[i])\n",
    "        \n",
    "    majorNum = Counter(majorList)\n",
    "    majorNum = majorNum.most_common(1)[0][0]\n",
    "    \n",
    "    for model in models:\n",
    "        if model[i] == majorNum:\n",
    "            modelDict[namestr(model,globals())[0]] += 1\n",
    "\n",
    "for model in models:\n",
    "    modelDict[namestr(model,globals())[0]] /= len(model) "
   ]
  },
  {
   "cell_type": "markdown",
   "metadata": {},
   "source": [
    "# Voting classifiers based on our models"
   ]
  },
  {
   "cell_type": "code",
   "execution_count": 89,
   "metadata": {},
   "outputs": [
    {
     "name": "stdout",
     "output_type": "stream",
     "text": [
      "{'BERTlist': 0.872795, 'BI_LSTMlist': 0.75432, 'BI_LSTM_WEIGHTSlist': 0.7264}\n"
     ]
    }
   ],
   "source": [
    "print(modelDict)"
   ]
  },
  {
   "cell_type": "markdown",
   "metadata": {},
   "source": [
    "# Majority test"
   ]
  },
  {
   "cell_type": "code",
   "execution_count": 26,
   "metadata": {},
   "outputs": [],
   "source": [
    "BERT_MODEL = tf.keras.models.load_model('C:/Users/Alex/')"
   ]
  },
  {
   "cell_type": "code",
   "execution_count": 32,
   "metadata": {},
   "outputs": [],
   "source": [
    "sarcasm_data = {}\n",
    "with open('sarcasm_data_NOTEmbedded.pickle',\"rb\") as f:\n",
    "     sarcasm_data = pickle.load(f)\n",
    "sarcasm_data.comment = sarcasm_data.comment.apply(join)\n",
    "sarcasm_data = sarcasm_data.sample(frac = 1) "
   ]
  },
  {
   "cell_type": "markdown",
   "metadata": {},
   "source": [
    "## Lets try 60% sarcastic and 40% normal."
   ]
  },
  {
   "cell_type": "code",
   "execution_count": 28,
   "metadata": {},
   "outputs": [
    {
     "data": {
      "text/html": [
       "<div>\n",
       "<style scoped>\n",
       "    .dataframe tbody tr th:only-of-type {\n",
       "        vertical-align: middle;\n",
       "    }\n",
       "\n",
       "    .dataframe tbody tr th {\n",
       "        vertical-align: top;\n",
       "    }\n",
       "\n",
       "    .dataframe thead th {\n",
       "        text-align: right;\n",
       "    }\n",
       "</style>\n",
       "<table border=\"1\" class=\"dataframe\">\n",
       "  <thead>\n",
       "    <tr style=\"text-align: right;\">\n",
       "      <th></th>\n",
       "      <th>label</th>\n",
       "      <th>comment</th>\n",
       "    </tr>\n",
       "  </thead>\n",
       "  <tbody>\n",
       "    <tr>\n",
       "      <th>629584</th>\n",
       "      <td>0</td>\n",
       "      <td>not even ace</td>\n",
       "    </tr>\n",
       "    <tr>\n",
       "      <th>46076</th>\n",
       "      <td>1</td>\n",
       "      <td>yeah let nerf giving extra ticket</td>\n",
       "    </tr>\n",
       "    <tr>\n",
       "      <th>482191</th>\n",
       "      <td>0</td>\n",
       "      <td>better thing time putting faith politician</td>\n",
       "    </tr>\n",
       "    <tr>\n",
       "      <th>518737</th>\n",
       "      <td>0</td>\n",
       "      <td>weevil fmj stock laser sight boa overdrive cold blood gung ho combat knife combat axe</td>\n",
       "    </tr>\n",
       "    <tr>\n",
       "      <th>1000420</th>\n",
       "      <td>1</td>\n",
       "      <td>sigh yes financial problem u caused massive overlending resulting huge correction clearly show rich people not lend money</td>\n",
       "    </tr>\n",
       "  </tbody>\n",
       "</table>\n",
       "</div>"
      ],
      "text/plain": [
       "         label  \\\n",
       "629584   0       \n",
       "46076    1       \n",
       "482191   0       \n",
       "518737   0       \n",
       "1000420  1       \n",
       "\n",
       "                                                                                                                           comment  \n",
       "629584   not even ace                                                                                                               \n",
       "46076    yeah let nerf giving extra ticket                                                                                          \n",
       "482191   better thing time putting faith politician                                                                                 \n",
       "518737   weevil fmj stock laser sight boa overdrive cold blood gung ho combat knife combat axe                                      \n",
       "1000420  sigh yes financial problem u caused massive overlending resulting huge correction clearly show rich people not lend money  "
      ]
     },
     "execution_count": 28,
     "metadata": {},
     "output_type": "execute_result"
    }
   ],
   "source": [
    "sarcastic = sarcasm_data.loc[sarcasm_data['label'] == 1]\n",
    "normal = sarcasm_data.loc[sarcasm_data['label'] == 0]\n",
    "\n",
    "sarcastic = sarcastic.sample(120000)\n",
    "normal = normal.sample(80000) \n",
    "\n",
    "sarcasm_data = 0\n",
    "sarcasm_data = pd.concat([normal,sarcastic])\n",
    "\n",
    "sarcasm_data = sarcasm_data.sample(frac = 1) \n",
    "\n",
    "labels = sarcasm_data['label']\n",
    "sentences = sarcasm_data['comment']\n",
    "sarcasm_data.head()"
   ]
  },
  {
   "cell_type": "code",
   "execution_count": 29,
   "metadata": {},
   "outputs": [],
   "source": [
    "testSentences = sarcasm_data['comment']\n",
    "labels = sarcasm_data['label']\n",
    "testSentences = fast_encode(testSentences.values, fast_tokenizer, maxlen=100)"
   ]
  },
  {
   "cell_type": "code",
   "execution_count": 30,
   "metadata": {},
   "outputs": [
    {
     "name": "stdout",
     "output_type": "stream",
     "text": [
      "              precision    recall  f1-score   support\n",
      "\n",
      "           0       0.71      0.86      0.78     80000\n",
      "           1       0.89      0.76      0.82    120000\n",
      "\n",
      "    accuracy                           0.80    200000\n",
      "   macro avg       0.80      0.81      0.80    200000\n",
      "weighted avg       0.82      0.80      0.80    200000\n",
      "\n"
     ]
    }
   ],
   "source": [
    "pred = BERT_MODEL.predict(testSentences)\n",
    "pred = np.round(pred).astype(int)\n",
    "print(classification_report(labels, pred))"
   ]
  },
  {
   "cell_type": "markdown",
   "metadata": {},
   "source": [
    "## lets try 75% sarcastic, 25% normal"
   ]
  },
  {
   "cell_type": "code",
   "execution_count": 33,
   "metadata": {},
   "outputs": [
    {
     "data": {
      "text/html": [
       "<div>\n",
       "<style scoped>\n",
       "    .dataframe tbody tr th:only-of-type {\n",
       "        vertical-align: middle;\n",
       "    }\n",
       "\n",
       "    .dataframe tbody tr th {\n",
       "        vertical-align: top;\n",
       "    }\n",
       "\n",
       "    .dataframe thead th {\n",
       "        text-align: right;\n",
       "    }\n",
       "</style>\n",
       "<table border=\"1\" class=\"dataframe\">\n",
       "  <thead>\n",
       "    <tr style=\"text-align: right;\">\n",
       "      <th></th>\n",
       "      <th>label</th>\n",
       "      <th>comment</th>\n",
       "    </tr>\n",
       "  </thead>\n",
       "  <tbody>\n",
       "    <tr>\n",
       "      <th>538768</th>\n",
       "      <td>1</td>\n",
       "      <td>nice see think rule not wearing eye protection</td>\n",
       "    </tr>\n",
       "    <tr>\n",
       "      <th>39491</th>\n",
       "      <td>1</td>\n",
       "      <td>yeah not uppity folk like rosa park knew place black would viewed far le badly u</td>\n",
       "    </tr>\n",
       "    <tr>\n",
       "      <th>830097</th>\n",
       "      <td>1</td>\n",
       "      <td>hold front page</td>\n",
       "    </tr>\n",
       "    <tr>\n",
       "      <th>456613</th>\n",
       "      <td>1</td>\n",
       "      <td>oregon</td>\n",
       "    </tr>\n",
       "    <tr>\n",
       "      <th>291260</th>\n",
       "      <td>0</td>\n",
       "      <td>important break side pad</td>\n",
       "    </tr>\n",
       "  </tbody>\n",
       "</table>\n",
       "</div>"
      ],
      "text/plain": [
       "        label  \\\n",
       "538768  1       \n",
       "39491   1       \n",
       "830097  1       \n",
       "456613  1       \n",
       "291260  0       \n",
       "\n",
       "                                                                                 comment  \n",
       "538768  nice see think rule not wearing eye protection                                    \n",
       "39491   yeah not uppity folk like rosa park knew place black would viewed far le badly u  \n",
       "830097  hold front page                                                                   \n",
       "456613  oregon                                                                            \n",
       "291260  important break side pad                                                          "
      ]
     },
     "execution_count": 33,
     "metadata": {},
     "output_type": "execute_result"
    }
   ],
   "source": [
    "sarcastic = sarcasm_data.loc[sarcasm_data['label'] == 1]\n",
    "normal = sarcasm_data.loc[sarcasm_data['label'] == 0]\n",
    "\n",
    "sarcastic = sarcastic.sample(150000)\n",
    "normal = normal.sample(50000) \n",
    "\n",
    "sarcasm_data = 0\n",
    "sarcasm_data = pd.concat([normal,sarcastic])\n",
    "\n",
    "sarcasm_data = sarcasm_data.sample(frac = 1) \n",
    "\n",
    "labels = sarcasm_data['label']\n",
    "sentences = sarcasm_data['comment']\n",
    "sarcasm_data.head()"
   ]
  },
  {
   "cell_type": "code",
   "execution_count": 34,
   "metadata": {},
   "outputs": [],
   "source": [
    "testSentences = sarcasm_data['comment']\n",
    "labels = sarcasm_data['label']\n",
    "testSentences = fast_encode(testSentences.values, fast_tokenizer, maxlen=100)"
   ]
  },
  {
   "cell_type": "code",
   "execution_count": 36,
   "metadata": {},
   "outputs": [
    {
     "name": "stdout",
     "output_type": "stream",
     "text": [
      "              precision    recall  f1-score   support\n",
      "\n",
      "           0       0.55      0.86      0.67     50000\n",
      "           1       0.94      0.76      0.84    150000\n",
      "\n",
      "    accuracy                           0.79    200000\n",
      "   macro avg       0.75      0.81      0.76    200000\n",
      "weighted avg       0.84      0.79      0.80    200000\n",
      "\n"
     ]
    }
   ],
   "source": [
    "pred = BERT_MODEL.predict(testSentences)\n",
    "pred = np.round(pred).astype(int)\n",
    "print(classification_report(labels, pred))"
   ]
  },
  {
   "cell_type": "markdown",
   "metadata": {},
   "source": [
    "# Loading the best saved model"
   ]
  },
  {
   "cell_type": "code",
   "execution_count": 37,
   "metadata": {},
   "outputs": [],
   "source": [
    "BERT_MODEL = tf.keras.models.load_model('C:/Users/Alex/')"
   ]
  },
  {
   "cell_type": "markdown",
   "metadata": {},
   "source": [
    "# Results for BERT 71.5% : Testing random googled sentences "
   ]
  },
  {
   "cell_type": "code",
   "execution_count": 38,
   "metadata": {
    "scrolled": false
   },
   "outputs": [
    {
     "name": "stdout",
     "output_type": "stream",
     "text": [
      "\n",
      "The sentence: It matters not what someone is born, but what they grow to be.\n",
      "is labeled not-sarcastic.\n",
      "have probability of 40.499 percent being sarcastic\n",
      "\n",
      "The sentence: The way to get started is to quit talking and begin doing\n",
      "is labeled not-sarcastic.\n",
      "have probability of 30.997 percent being sarcastic\n",
      "\n",
      "The sentence: Life is what happens when you're busy making other plans\n",
      "is labeled not-sarcastic.\n",
      "have probability of 27.411 percent being sarcastic\n",
      "\n",
      "The sentence: Zombies eat brains. You’re safe.\n",
      "is labeled sarcastic.\n",
      "have probability of 80.331 percent being sarcastic\n",
      "\n",
      "The sentence: Always remember that you’re unique. Just like everyone else\n",
      "is labeled sarcastic.\n",
      "have probability of 82.276 percent being sarcastic\n",
      "\n",
      "The sentence: I'm glad we're having a rehearsal dinner. I rarely practice my meals before I eat.\n",
      "is labeled sarcastic.\n",
      "have probability of 74.452 percent being sarcastic\n"
     ]
    }
   ],
   "source": [
    "def results(best_model): \n",
    "    notSarcastic = [\"It matters not what someone is born, but what they grow to be.\",\n",
    "                    \"The way to get started is to quit talking and begin doing\",\n",
    "                    \"Life is what happens when you're busy making other plans\"]\n",
    "\n",
    "\n",
    "    sarcasticSentences = [\"Zombies eat brains. You’re safe.\",\n",
    "                \"Always remember that you’re unique. Just like everyone else\",\n",
    "                \"I'm glad we're having a rehearsal dinner. I rarely practice my meals before I eat.\"]\n",
    "\n",
    "    alltestSentences = notSarcastic + sarcasticSentences\n",
    "\n",
    "\n",
    "    testData = {'comment':notSarcastic + sarcasticSentences, 'label':[0,0,0,1,1,1] }\n",
    "\n",
    "    testData = pd.DataFrame(data=testData)\n",
    "\n",
    "    testData.comment = testData.comment.apply(data_cleaning)\n",
    "    testData.comment = testData.comment.apply(remove_bad_words) #stop words\n",
    "    testData.comment = testData.comment.apply(lematize)\n",
    "\n",
    "\n",
    "    testData.comment = testData.comment.apply(join)\n",
    "\n",
    "    testLabels = testData['label']\n",
    "    testSentences = testData['comment']\n",
    "\n",
    "    testSentences = fast_encode(testSentences.values, fast_tokenizer, maxlen=100)\n",
    "\n",
    "\n",
    "\n",
    "\n",
    "\n",
    "    prediction = best_model.predict(testSentences)\n",
    "\n",
    "    for i in range(len(prediction)):\n",
    "        print(\"\\nThe sentence: \" + alltestSentences[i])\n",
    "        if i > 2:\n",
    "            print(\"is labeled sarcastic.\")\n",
    "        else:\n",
    "            print(\"is labeled not-sarcastic.\") \n",
    "\n",
    "        print(\"have probability of %.3f percent\"%(prediction[i]*100) + \" being sarcastic\")\n",
    "\n",
    "results(BERT_MODEL)"
   ]
  },
  {
   "cell_type": "markdown",
   "metadata": {},
   "source": [
    "# Ideas to improve\n",
    "\n",
    "- More data.\n",
    "- Golden data, Reddit comments are tagged as sarcastic by users, Hence the data is ambiguous.\n",
    "- Better data cleaning.\n",
    "- Try different optimizers.\n",
    "- Try different pre-trained vectors (Glove or Word2Vec).\n",
    "- k-Fold Cross Validation\n",
    "- Evaluate the model on other sarcastic data set."
   ]
  }
 ],
 "metadata": {
  "kernelspec": {
   "display_name": "Python 3",
   "language": "python",
   "name": "python3"
  },
  "language_info": {
   "codemirror_mode": {
    "name": "ipython",
    "version": 3
   },
   "file_extension": ".py",
   "mimetype": "text/x-python",
   "name": "python",
   "nbconvert_exporter": "python",
   "pygments_lexer": "ipython3",
   "version": "3.7.9"
  }
 },
 "nbformat": 4,
 "nbformat_minor": 2
}
